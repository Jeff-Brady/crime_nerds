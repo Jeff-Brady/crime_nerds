{
 "cells": [
  {
   "cell_type": "markdown",
   "metadata": {},
   "source": [
    "# Crime Data"
   ]
  },
  {
   "cell_type": "code",
   "execution_count": 1,
   "metadata": {},
   "outputs": [],
   "source": [
    "import pandas as pd\n",
    "import seaborn as sns\n",
    "import matplotlib.pyplot as plt"
   ]
  },
  {
   "cell_type": "markdown",
   "metadata": {},
   "source": [
    "# Unemployment Data"
   ]
  },
  {
   "cell_type": "markdown",
   "metadata": {},
   "source": [
    "Insert Data from the Excel File"
   ]
  },
  {
   "cell_type": "markdown",
   "metadata": {},
   "source": [
    "## Per Borough"
   ]
  },
  {
   "cell_type": "code",
   "execution_count": null,
   "metadata": {},
   "outputs": [],
   "source": [
    "unemployed = pd.read_excel('./Data/Unemployment_NYC.xlsx',sheet_name=0)"
   ]
  },
  {
   "cell_type": "code",
   "execution_count": null,
   "metadata": {},
   "outputs": [],
   "source": [
    "# converting headers to lowercase and removing whitespaces:\n",
    "unemployed.columns = unemployed.columns.str.lower()\n",
    "unemployed.columns = unemployed.columns.str.strip()"
   ]
  },
  {
   "cell_type": "code",
   "execution_count": null,
   "metadata": {},
   "outputs": [],
   "source": [
    "unemployed.head()"
   ]
  },
  {
   "cell_type": "code",
   "execution_count": null,
   "metadata": {},
   "outputs": [],
   "source": [
    "unemployed.info()"
   ]
  },
  {
   "cell_type": "markdown",
   "metadata": {},
   "source": [
    "### Filter the data\n",
    "for the 5 boroughs: Bronx, Kings, New York, Queens, Richmond are the official names for the boroughs"
   ]
  },
  {
   "cell_type": "code",
   "execution_count": null,
   "metadata": {},
   "outputs": [],
   "source": [
    "unemployed['areatype'].unique()"
   ]
  },
  {
   "cell_type": "code",
   "execution_count": null,
   "metadata": {},
   "outputs": [],
   "source": [
    "unemployed['area'].unique()"
   ]
  },
  {
   "cell_type": "code",
   "execution_count": null,
   "metadata": {},
   "outputs": [],
   "source": [
    "borough = ['Bronx County', 'Kings County', 'New York County', 'Queens County', 'Richmond County']\n",
    "borough_unem = unemployed.loc[unemployed['area'].isin(borough)]\n",
    "borough_unem.head()"
   ]
  },
  {
   "cell_type": "code",
   "execution_count": null,
   "metadata": {},
   "outputs": [],
   "source": [
    "borough_unem.info()"
   ]
  },
  {
   "cell_type": "code",
   "execution_count": null,
   "metadata": {},
   "outputs": [],
   "source": [
    "borough_unem['avg_year']= borough_unem['month']==0\n",
    "borough_unem.head()"
   ]
  },
  {
   "cell_type": "code",
   "execution_count": null,
   "metadata": {},
   "outputs": [],
   "source": [
    "borough_unem['avg_year'].unique()"
   ]
  },
  {
   "cell_type": "markdown",
   "metadata": {},
   "source": [
    "### Creating df with only avg yearly and with only monthly data."
   ]
  },
  {
   "cell_type": "code",
   "execution_count": null,
   "metadata": {},
   "outputs": [],
   "source": [
    "bo_unem_yearly = borough_unem.loc[borough_unem['avg_year'] == True]\n",
    "bo_unem_yearly.head()"
   ]
  },
  {
   "cell_type": "code",
   "execution_count": null,
   "metadata": {},
   "outputs": [],
   "source": [
    "bo_unem_yearly.info()"
   ]
  },
  {
   "cell_type": "code",
   "execution_count": null,
   "metadata": {},
   "outputs": [],
   "source": [
    "bo_unem_monthly = borough_unem.loc[borough_unem['avg_year'] == False]\n",
    "bo_unem_monthly.head()"
   ]
  },
  {
   "cell_type": "code",
   "execution_count": null,
   "metadata": {},
   "outputs": [],
   "source": [
    "# Resetting Index:\n",
    "bo_unem_yearly.reset_index(inplace=True)\n",
    "bo_unem_yearly.drop('index', axis=1, inplace=True)\n",
    "bo_unem_yearly.head()"
   ]
  },
  {
   "cell_type": "code",
   "execution_count": null,
   "metadata": {},
   "outputs": [],
   "source": [
    "# Resetting Index monthly:\n",
    "bo_unem_monthly.reset_index(inplace=True)\n",
    "bo_unem_monthly.drop('index', axis=1, inplace=True)\n",
    "bo_unem_monthly.head()"
   ]
  },
  {
   "cell_type": "code",
   "execution_count": null,
   "metadata": {},
   "outputs": [],
   "source": [
    "bo_unem_monthly.info()"
   ]
  },
  {
   "cell_type": "code",
   "execution_count": null,
   "metadata": {},
   "outputs": [],
   "source": [
    "#Including new column (day) to convert to datetime\n",
    "bo_unem_monthly_d = bo_unem_monthly\n",
    "bo_unem_monthly_d['day'] = 1\n",
    "bo_unem_monthly_d.head()"
   ]
  },
  {
   "cell_type": "code",
   "execution_count": null,
   "metadata": {},
   "outputs": [],
   "source": [
    "#Inserting Date\n",
    "bo_unem_monthly_d['date'] = pd.to_datetime(bo_unem_monthly[['year', 'month', 'day']], format=\"%y/%m\")\n",
    "bo_unem_monthly_d.head()"
   ]
  },
  {
   "cell_type": "code",
   "execution_count": null,
   "metadata": {},
   "outputs": [],
   "source": [
    "# dropping columns we don't need\n",
    "bo_unem_monthly_d.drop(['areatype', 'avg_year', 'day'], axis= 1, inplace = True)\n",
    "bo_unem_monthly_d.head()"
   ]
  },
  {
   "cell_type": "code",
   "execution_count": null,
   "metadata": {},
   "outputs": [],
   "source": [
    "bo_unem_monthly_d.head()"
   ]
  },
  {
   "cell_type": "code",
   "execution_count": null,
   "metadata": {},
   "outputs": [],
   "source": [
    "bo_unem_monthly_d.info()"
   ]
  },
  {
   "cell_type": "markdown",
   "metadata": {},
   "source": [
    "### Looking at the Data"
   ]
  },
  {
   "cell_type": "code",
   "execution_count": null,
   "metadata": {},
   "outputs": [],
   "source": [
    "plt.figure(figsize=(12, 6))\n",
    "\n",
    "# Create the histogram with 'waiting_for_truck_time'\n",
    "sns.lineplot(x='date',y = 'unemprate', hue='area', data=bo_unem_monthly_d, linewidth=1, color='palevioletred')\n",
    "# Fill the area under the curve with blue color\n",
    "#plt.fill_between(harrisburg_full['Date '], harrisburg_full['pct_cancelled'], color='palevioletred', alpha=0.3)\n",
    "# Set labels and title\n",
    "##plt.xlabel('pct_cancelled')\n",
    "plt.ylabel('unemploymentrate')\n",
    "plt.title('Rate of Unemployment')\n",
    "\n",
    "# Show the legend\n",
    "plt.legend()\n",
    "\n",
    "# Show the plot\n",
    "plt.show()"
   ]
  },
  {
   "cell_type": "markdown",
   "metadata": {},
   "source": []
  },
  {
   "cell_type": "markdown",
   "metadata": {},
   "source": [
    "## Data for whole NYC"
   ]
  },
  {
   "cell_type": "code",
   "execution_count": null,
   "metadata": {},
   "outputs": [],
   "source": [
    "area = pd.read_excel('./Data/Unemployment_NYC.xlsx',sheet_name=1)\n",
    "area.head()"
   ]
  },
  {
   "cell_type": "code",
   "execution_count": null,
   "metadata": {},
   "outputs": [],
   "source": [
    "# converting headers to lowercase and removing whitespaces:\n",
    "area.columns = area.columns.str.lower()\n",
    "area.columns = area.columns.str.strip()\n",
    "area.head()"
   ]
  },
  {
   "cell_type": "code",
   "execution_count": null,
   "metadata": {},
   "outputs": [],
   "source": [
    "area['area'].unique()"
   ]
  },
  {
   "cell_type": "code",
   "execution_count": null,
   "metadata": {},
   "outputs": [],
   "source": [
    "nyc = area.loc[area['area'].isin(['New York City'])]\n",
    "nyc.head()"
   ]
  },
  {
   "cell_type": "code",
   "execution_count": null,
   "metadata": {},
   "outputs": [],
   "source": [
    "nyc.info()"
   ]
  },
  {
   "cell_type": "markdown",
   "metadata": {},
   "source": [
    "### Creating DF with monthly and yearly"
   ]
  },
  {
   "cell_type": "code",
   "execution_count": null,
   "metadata": {},
   "outputs": [],
   "source": [
    "nyc_yearly = nyc.loc[nyc['month'] == 0]\n",
    "nyc_yearly.head()"
   ]
  },
  {
   "cell_type": "code",
   "execution_count": null,
   "metadata": {},
   "outputs": [],
   "source": [
    "nyc_monthly = nyc.loc[nyc['month'] != 0]\n",
    "nyc_monthly.head()"
   ]
  },
  {
   "cell_type": "code",
   "execution_count": null,
   "metadata": {},
   "outputs": [],
   "source": [
    "# Resetting Index monthly:\n",
    "nyc_monthly.reset_index(inplace=True)\n",
    "nyc_monthly.drop('index', axis=1, inplace=True)\n",
    "nyc_monthly.head()"
   ]
  },
  {
   "cell_type": "code",
   "execution_count": null,
   "metadata": {},
   "outputs": [],
   "source": [
    "#Including new column (day) to convert to datetime\n",
    "nyc_monthly_d = nyc_monthly\n",
    "nyc_monthly_d['day'] = 1\n",
    "\n",
    "#Inserting Date\n",
    "nyc_monthly_d['date'] = pd.to_datetime(nyc_monthly_d[['year', 'month', 'day']], format=\"%y/%m\")\n",
    "\n",
    "nyc_monthly_d.head()"
   ]
  },
  {
   "cell_type": "code",
   "execution_count": null,
   "metadata": {},
   "outputs": [],
   "source": [
    "# dropping columns we don't need\n",
    "nyc_monthly_d.drop(['areatype', 'day'], axis= 1, inplace = True)\n",
    "nyc_monthly_d.head()"
   ]
  },
  {
   "cell_type": "code",
   "execution_count": null,
   "metadata": {},
   "outputs": [],
   "source": [
    "nyc_monthly_d.info()"
   ]
  },
  {
   "cell_type": "markdown",
   "metadata": {},
   "source": [
    "## Concatenate NYC and Borough Data"
   ]
  },
  {
   "cell_type": "code",
   "execution_count": null,
   "metadata": {},
   "outputs": [],
   "source": [
    "nyc_monthly_d.info()"
   ]
  },
  {
   "cell_type": "code",
   "execution_count": null,
   "metadata": {},
   "outputs": [],
   "source": [
    "bo_unem_monthly_d.info()"
   ]
  },
  {
   "cell_type": "code",
   "execution_count": null,
   "metadata": {},
   "outputs": [],
   "source": [
    "nyc_unemployment = pd.concat([bo_unem_monthly_d, nyc_monthly_d])\n",
    "nyc_unemployment.head()"
   ]
  },
  {
   "cell_type": "code",
   "execution_count": null,
   "metadata": {},
   "outputs": [],
   "source": [
    "nyc_unemployment.info()"
   ]
  },
  {
   "cell_type": "code",
   "execution_count": null,
   "metadata": {},
   "outputs": [],
   "source": [
    "#filtering for starting at 2000\n",
    "nyc_unemployment_filtered = nyc_unemployment[nyc_unemployment['date'].dt.year >= 2000]\n",
    "\n",
    "plt.figure(figsize=(12, 6))\n",
    "\n",
    "# Create the histogram with 'waiting_for_truck_time'\n",
    "sns.lineplot(x='date',y = 'unemprate', hue='area', data=nyc_unemployment_filtered, linewidth=1, color='palevioletred')\n",
    "# Fill the area under the curve with blue color\n",
    "#plt.fill_between(harrisburg_full['Date '], harrisburg_full['pct_cancelled'], color='palevioletred', alpha=0.3)\n",
    "# Set labels and title\n",
    "##plt.xlabel('pct_cancelled')\n",
    "plt.ylabel('unemploymentrate')\n",
    "plt.title('Rate of Unemployment')\n",
    "\n",
    "# Show the legend\n",
    "plt.legend()\n",
    "\n",
    "# Show the plot\n",
    "plt.show()"
   ]
  },
  {
   "cell_type": "markdown",
   "metadata": {},
   "source": [
    "## Uploading Data to Postgres"
   ]
  },
  {
   "cell_type": "code",
   "execution_count": null,
   "metadata": {},
   "outputs": [],
   "source": [
    "from sql_functions import get_engine"
   ]
  },
  {
   "cell_type": "code",
   "execution_count": null,
   "metadata": {},
   "outputs": [],
   "source": [
    "table_name = 'unemployment_nyc'\n",
    "schema = 'capstone_crime_nerds' # UPDATE 'TABLE_SCHEMA' based on schema used in class \n",
    "engine = get_engine() # assign engine to be able to query against the database\n",
    "# If the specified table doesn't exist yet, it will be created\n",
    "# With 'replace', your data will be replaced if the table already exists.\n",
    "# This may take some time ...\n",
    "\n",
    "# Write records stored in a dataframe to SQL database\n",
    "if engine!=None:\n",
    "    try:\n",
    "        nyc_unemployment.to_sql(name=table_name, # Name of SQL table\n",
    "                        con=engine, # Engine or connection\n",
    "                        if_exists='replace', # Drop the table before inserting new values \n",
    "                        schema=schema, # Use schmea that was defined earlier\n",
    "                        index=False, # Write DataFrame index as a column\n",
    "                        chunksize=5000, # Specify the number of rows in each batch to be written at a time\n",
    "                        method='multi') # Pass multiple values in a single INSERT clause\n",
    "        print(f\"The {table_name} table was imported successfully.\")\n",
    "    # Error handling\n",
    "    except (Exception, psycopg2.DatabaseError) as error:\n",
    "        print(error)\n",
    "        engine = None"
   ]
  },
  {
   "cell_type": "code",
   "execution_count": null,
   "metadata": {},
   "outputs": [],
   "source": [
    "table_name_sql = f'''SELECT count(*) \n",
    "                    FROM {schema}.{table_name}\n",
    "                    '''\n",
    "engine.execute(table_name_sql).fetchall()[0][0] == nyc_unemployment.shape[0]"
   ]
  },
  {
   "cell_type": "markdown",
   "metadata": {},
   "source": [
    "# Police Stations"
   ]
  },
  {
   "cell_type": "markdown",
   "metadata": {},
   "source": [
    "## Try Nr. 1"
   ]
  },
  {
   "cell_type": "code",
   "execution_count": 2,
   "metadata": {},
   "outputs": [
    {
     "data": {
      "text/html": [
       "<div>\n",
       "<style scoped>\n",
       "    .dataframe tbody tr th:only-of-type {\n",
       "        vertical-align: middle;\n",
       "    }\n",
       "\n",
       "    .dataframe tbody tr th {\n",
       "        vertical-align: top;\n",
       "    }\n",
       "\n",
       "    .dataframe thead th {\n",
       "        text-align: right;\n",
       "    }\n",
       "</style>\n",
       "<table border=\"1\" class=\"dataframe\">\n",
       "  <thead>\n",
       "    <tr style=\"text-align: right;\">\n",
       "      <th></th>\n",
       "      <th>Agency</th>\n",
       "      <th>Geographic Unit</th>\n",
       "      <th>Geographic Identifier</th>\n",
       "      <th>Indicator</th>\n",
       "      <th>Jul-10</th>\n",
       "      <th>Aug-10</th>\n",
       "      <th>Sep-10</th>\n",
       "      <th>Oct-10</th>\n",
       "      <th>Nov-10</th>\n",
       "      <th>Dec-10</th>\n",
       "      <th>...</th>\n",
       "      <th>Sep-18</th>\n",
       "      <th>Oct-18</th>\n",
       "      <th>Nov-18</th>\n",
       "      <th>Dec-18</th>\n",
       "      <th>Jan-19</th>\n",
       "      <th>Feb-19</th>\n",
       "      <th>Mar-19</th>\n",
       "      <th>Apr-19</th>\n",
       "      <th>May-19</th>\n",
       "      <th>Jun-19</th>\n",
       "    </tr>\n",
       "  </thead>\n",
       "  <tbody>\n",
       "    <tr>\n",
       "      <th>0</th>\n",
       "      <td>DSNY</td>\n",
       "      <td>Community District</td>\n",
       "      <td>Staten Island 3</td>\n",
       "      <td>Streets rated acceptably clean (%)</td>\n",
       "      <td>100.00</td>\n",
       "      <td>100.00</td>\n",
       "      <td>100.00</td>\n",
       "      <td>100.00</td>\n",
       "      <td>99.30</td>\n",
       "      <td>100.00</td>\n",
       "      <td>...</td>\n",
       "      <td>100.00</td>\n",
       "      <td>100.00</td>\n",
       "      <td>NaN</td>\n",
       "      <td>NaN</td>\n",
       "      <td>NaN</td>\n",
       "      <td>NaN</td>\n",
       "      <td>NaN</td>\n",
       "      <td>NaN</td>\n",
       "      <td>NaN</td>\n",
       "      <td>NaN</td>\n",
       "    </tr>\n",
       "    <tr>\n",
       "      <th>1</th>\n",
       "      <td>DSNY</td>\n",
       "      <td>Community District</td>\n",
       "      <td>Staten Island 2</td>\n",
       "      <td>Streets rated acceptably clean (%)</td>\n",
       "      <td>96.10</td>\n",
       "      <td>99.10</td>\n",
       "      <td>100.00</td>\n",
       "      <td>98.80</td>\n",
       "      <td>98.10</td>\n",
       "      <td>98.20</td>\n",
       "      <td>...</td>\n",
       "      <td>95.72</td>\n",
       "      <td>99.00</td>\n",
       "      <td>NaN</td>\n",
       "      <td>NaN</td>\n",
       "      <td>NaN</td>\n",
       "      <td>NaN</td>\n",
       "      <td>NaN</td>\n",
       "      <td>NaN</td>\n",
       "      <td>NaN</td>\n",
       "      <td>NaN</td>\n",
       "    </tr>\n",
       "    <tr>\n",
       "      <th>2</th>\n",
       "      <td>DSNY</td>\n",
       "      <td>Community District</td>\n",
       "      <td>Staten Island 1</td>\n",
       "      <td>Streets rated acceptably clean (%)</td>\n",
       "      <td>92.10</td>\n",
       "      <td>94.40</td>\n",
       "      <td>94.10</td>\n",
       "      <td>96.40</td>\n",
       "      <td>95.10</td>\n",
       "      <td>96.90</td>\n",
       "      <td>...</td>\n",
       "      <td>99.17</td>\n",
       "      <td>95.84</td>\n",
       "      <td>NaN</td>\n",
       "      <td>NaN</td>\n",
       "      <td>NaN</td>\n",
       "      <td>NaN</td>\n",
       "      <td>NaN</td>\n",
       "      <td>NaN</td>\n",
       "      <td>NaN</td>\n",
       "      <td>NaN</td>\n",
       "    </tr>\n",
       "    <tr>\n",
       "      <th>3</th>\n",
       "      <td>DSNY</td>\n",
       "      <td>Community District</td>\n",
       "      <td>Queens 14</td>\n",
       "      <td>Streets rated acceptably clean (%)</td>\n",
       "      <td>97.00</td>\n",
       "      <td>97.80</td>\n",
       "      <td>97.50</td>\n",
       "      <td>95.70</td>\n",
       "      <td>96.60</td>\n",
       "      <td>99.10</td>\n",
       "      <td>...</td>\n",
       "      <td>97.29</td>\n",
       "      <td>98.19</td>\n",
       "      <td>NaN</td>\n",
       "      <td>NaN</td>\n",
       "      <td>NaN</td>\n",
       "      <td>NaN</td>\n",
       "      <td>NaN</td>\n",
       "      <td>NaN</td>\n",
       "      <td>NaN</td>\n",
       "      <td>NaN</td>\n",
       "    </tr>\n",
       "    <tr>\n",
       "      <th>4</th>\n",
       "      <td>DSNY</td>\n",
       "      <td>Community District</td>\n",
       "      <td>Queens 13</td>\n",
       "      <td>Streets rated acceptably clean (%)</td>\n",
       "      <td>95.60</td>\n",
       "      <td>95.90</td>\n",
       "      <td>97.20</td>\n",
       "      <td>99.70</td>\n",
       "      <td>99.40</td>\n",
       "      <td>97.90</td>\n",
       "      <td>...</td>\n",
       "      <td>95.45</td>\n",
       "      <td>94.88</td>\n",
       "      <td>NaN</td>\n",
       "      <td>NaN</td>\n",
       "      <td>NaN</td>\n",
       "      <td>NaN</td>\n",
       "      <td>NaN</td>\n",
       "      <td>NaN</td>\n",
       "      <td>NaN</td>\n",
       "      <td>NaN</td>\n",
       "    </tr>\n",
       "  </tbody>\n",
       "</table>\n",
       "<p>5 rows × 112 columns</p>\n",
       "</div>"
      ],
      "text/plain": [
       "  Agency     Geographic Unit Geographic Identifier  \\\n",
       "0   DSNY  Community District       Staten Island 3   \n",
       "1   DSNY  Community District       Staten Island 2   \n",
       "2   DSNY  Community District       Staten Island 1   \n",
       "3   DSNY  Community District             Queens 14   \n",
       "4   DSNY  Community District             Queens 13   \n",
       "\n",
       "                            Indicator  Jul-10  Aug-10  Sep-10  Oct-10 Nov-10  \\\n",
       "0  Streets rated acceptably clean (%)  100.00  100.00  100.00  100.00  99.30   \n",
       "1  Streets rated acceptably clean (%)   96.10   99.10  100.00   98.80  98.10   \n",
       "2  Streets rated acceptably clean (%)   92.10   94.40   94.10   96.40  95.10   \n",
       "3  Streets rated acceptably clean (%)   97.00   97.80   97.50   95.70  96.60   \n",
       "4  Streets rated acceptably clean (%)   95.60   95.90   97.20   99.70  99.40   \n",
       "\n",
       "   Dec-10  ...  Sep-18  Oct-18 Nov-18 Dec-18 Jan-19 Feb-19 Mar-19 Apr-19  \\\n",
       "0  100.00  ...  100.00  100.00    NaN    NaN    NaN    NaN    NaN    NaN   \n",
       "1   98.20  ...   95.72   99.00    NaN    NaN    NaN    NaN    NaN    NaN   \n",
       "2   96.90  ...   99.17   95.84    NaN    NaN    NaN    NaN    NaN    NaN   \n",
       "3   99.10  ...   97.29   98.19    NaN    NaN    NaN    NaN    NaN    NaN   \n",
       "4   97.90  ...   95.45   94.88    NaN    NaN    NaN    NaN    NaN    NaN   \n",
       "\n",
       "  May-19 Jun-19  \n",
       "0    NaN    NaN  \n",
       "1    NaN    NaN  \n",
       "2    NaN    NaN  \n",
       "3    NaN    NaN  \n",
       "4    NaN    NaN  \n",
       "\n",
       "[5 rows x 112 columns]"
      ]
     },
     "execution_count": 2,
     "metadata": {},
     "output_type": "execute_result"
    }
   ],
   "source": [
    "#Inserting Police Stations Data\n",
    "agencies = pd.read_csv('./Data/Agency_Performance_Mapping_NYC.csv')\n",
    "agencies.head()"
   ]
  },
  {
   "cell_type": "code",
   "execution_count": 3,
   "metadata": {},
   "outputs": [
    {
     "name": "stdout",
     "output_type": "stream",
     "text": [
      "<class 'pandas.core.frame.DataFrame'>\n",
      "RangeIndex: 1167 entries, 0 to 1166\n",
      "Columns: 112 entries, Agency to Jun-19\n",
      "dtypes: float64(8), object(104)\n",
      "memory usage: 1021.2+ KB\n"
     ]
    }
   ],
   "source": [
    "agencies.info()"
   ]
  },
  {
   "cell_type": "code",
   "execution_count": 4,
   "metadata": {},
   "outputs": [
    {
     "data": {
      "text/plain": [
       "(1167, 112)"
      ]
     },
     "execution_count": 4,
     "metadata": {},
     "output_type": "execute_result"
    }
   ],
   "source": [
    "agencies.shape"
   ]
  },
  {
   "cell_type": "code",
   "execution_count": 5,
   "metadata": {},
   "outputs": [
    {
     "data": {
      "text/plain": [
       "array(['DSNY', 'NYPD', 'FDNY'], dtype=object)"
      ]
     },
     "execution_count": 5,
     "metadata": {},
     "output_type": "execute_result"
    }
   ],
   "source": [
    "agencies['Agency'].unique()"
   ]
  },
  {
   "cell_type": "code",
   "execution_count": 6,
   "metadata": {},
   "outputs": [
    {
     "data": {
      "text/html": [
       "<div>\n",
       "<style scoped>\n",
       "    .dataframe tbody tr th:only-of-type {\n",
       "        vertical-align: middle;\n",
       "    }\n",
       "\n",
       "    .dataframe tbody tr th {\n",
       "        vertical-align: top;\n",
       "    }\n",
       "\n",
       "    .dataframe thead th {\n",
       "        text-align: right;\n",
       "    }\n",
       "</style>\n",
       "<table border=\"1\" class=\"dataframe\">\n",
       "  <thead>\n",
       "    <tr style=\"text-align: right;\">\n",
       "      <th></th>\n",
       "      <th>agency</th>\n",
       "      <th>geographic_unit</th>\n",
       "      <th>geographic_identifier</th>\n",
       "      <th>indicator</th>\n",
       "      <th>jul-10</th>\n",
       "      <th>aug-10</th>\n",
       "      <th>sep-10</th>\n",
       "      <th>oct-10</th>\n",
       "      <th>nov-10</th>\n",
       "      <th>dec-10</th>\n",
       "      <th>...</th>\n",
       "      <th>sep-18</th>\n",
       "      <th>oct-18</th>\n",
       "      <th>nov-18</th>\n",
       "      <th>dec-18</th>\n",
       "      <th>jan-19</th>\n",
       "      <th>feb-19</th>\n",
       "      <th>mar-19</th>\n",
       "      <th>apr-19</th>\n",
       "      <th>may-19</th>\n",
       "      <th>jun-19</th>\n",
       "    </tr>\n",
       "  </thead>\n",
       "  <tbody>\n",
       "    <tr>\n",
       "      <th>0</th>\n",
       "      <td>DSNY</td>\n",
       "      <td>Community District</td>\n",
       "      <td>Staten Island 3</td>\n",
       "      <td>Streets rated acceptably clean (%)</td>\n",
       "      <td>100.00</td>\n",
       "      <td>100.00</td>\n",
       "      <td>100.00</td>\n",
       "      <td>100.00</td>\n",
       "      <td>99.30</td>\n",
       "      <td>100.00</td>\n",
       "      <td>...</td>\n",
       "      <td>100.00</td>\n",
       "      <td>100.00</td>\n",
       "      <td>NaN</td>\n",
       "      <td>NaN</td>\n",
       "      <td>NaN</td>\n",
       "      <td>NaN</td>\n",
       "      <td>NaN</td>\n",
       "      <td>NaN</td>\n",
       "      <td>NaN</td>\n",
       "      <td>NaN</td>\n",
       "    </tr>\n",
       "    <tr>\n",
       "      <th>1</th>\n",
       "      <td>DSNY</td>\n",
       "      <td>Community District</td>\n",
       "      <td>Staten Island 2</td>\n",
       "      <td>Streets rated acceptably clean (%)</td>\n",
       "      <td>96.10</td>\n",
       "      <td>99.10</td>\n",
       "      <td>100.00</td>\n",
       "      <td>98.80</td>\n",
       "      <td>98.10</td>\n",
       "      <td>98.20</td>\n",
       "      <td>...</td>\n",
       "      <td>95.72</td>\n",
       "      <td>99.00</td>\n",
       "      <td>NaN</td>\n",
       "      <td>NaN</td>\n",
       "      <td>NaN</td>\n",
       "      <td>NaN</td>\n",
       "      <td>NaN</td>\n",
       "      <td>NaN</td>\n",
       "      <td>NaN</td>\n",
       "      <td>NaN</td>\n",
       "    </tr>\n",
       "    <tr>\n",
       "      <th>2</th>\n",
       "      <td>DSNY</td>\n",
       "      <td>Community District</td>\n",
       "      <td>Staten Island 1</td>\n",
       "      <td>Streets rated acceptably clean (%)</td>\n",
       "      <td>92.10</td>\n",
       "      <td>94.40</td>\n",
       "      <td>94.10</td>\n",
       "      <td>96.40</td>\n",
       "      <td>95.10</td>\n",
       "      <td>96.90</td>\n",
       "      <td>...</td>\n",
       "      <td>99.17</td>\n",
       "      <td>95.84</td>\n",
       "      <td>NaN</td>\n",
       "      <td>NaN</td>\n",
       "      <td>NaN</td>\n",
       "      <td>NaN</td>\n",
       "      <td>NaN</td>\n",
       "      <td>NaN</td>\n",
       "      <td>NaN</td>\n",
       "      <td>NaN</td>\n",
       "    </tr>\n",
       "    <tr>\n",
       "      <th>3</th>\n",
       "      <td>DSNY</td>\n",
       "      <td>Community District</td>\n",
       "      <td>Queens 14</td>\n",
       "      <td>Streets rated acceptably clean (%)</td>\n",
       "      <td>97.00</td>\n",
       "      <td>97.80</td>\n",
       "      <td>97.50</td>\n",
       "      <td>95.70</td>\n",
       "      <td>96.60</td>\n",
       "      <td>99.10</td>\n",
       "      <td>...</td>\n",
       "      <td>97.29</td>\n",
       "      <td>98.19</td>\n",
       "      <td>NaN</td>\n",
       "      <td>NaN</td>\n",
       "      <td>NaN</td>\n",
       "      <td>NaN</td>\n",
       "      <td>NaN</td>\n",
       "      <td>NaN</td>\n",
       "      <td>NaN</td>\n",
       "      <td>NaN</td>\n",
       "    </tr>\n",
       "    <tr>\n",
       "      <th>4</th>\n",
       "      <td>DSNY</td>\n",
       "      <td>Community District</td>\n",
       "      <td>Queens 13</td>\n",
       "      <td>Streets rated acceptably clean (%)</td>\n",
       "      <td>95.60</td>\n",
       "      <td>95.90</td>\n",
       "      <td>97.20</td>\n",
       "      <td>99.70</td>\n",
       "      <td>99.40</td>\n",
       "      <td>97.90</td>\n",
       "      <td>...</td>\n",
       "      <td>95.45</td>\n",
       "      <td>94.88</td>\n",
       "      <td>NaN</td>\n",
       "      <td>NaN</td>\n",
       "      <td>NaN</td>\n",
       "      <td>NaN</td>\n",
       "      <td>NaN</td>\n",
       "      <td>NaN</td>\n",
       "      <td>NaN</td>\n",
       "      <td>NaN</td>\n",
       "    </tr>\n",
       "  </tbody>\n",
       "</table>\n",
       "<p>5 rows × 112 columns</p>\n",
       "</div>"
      ],
      "text/plain": [
       "  agency     geographic_unit geographic_identifier  \\\n",
       "0   DSNY  Community District       Staten Island 3   \n",
       "1   DSNY  Community District       Staten Island 2   \n",
       "2   DSNY  Community District       Staten Island 1   \n",
       "3   DSNY  Community District             Queens 14   \n",
       "4   DSNY  Community District             Queens 13   \n",
       "\n",
       "                            indicator  jul-10  aug-10  sep-10  oct-10 nov-10  \\\n",
       "0  Streets rated acceptably clean (%)  100.00  100.00  100.00  100.00  99.30   \n",
       "1  Streets rated acceptably clean (%)   96.10   99.10  100.00   98.80  98.10   \n",
       "2  Streets rated acceptably clean (%)   92.10   94.40   94.10   96.40  95.10   \n",
       "3  Streets rated acceptably clean (%)   97.00   97.80   97.50   95.70  96.60   \n",
       "4  Streets rated acceptably clean (%)   95.60   95.90   97.20   99.70  99.40   \n",
       "\n",
       "   dec-10  ...  sep-18  oct-18 nov-18 dec-18 jan-19 feb-19 mar-19 apr-19  \\\n",
       "0  100.00  ...  100.00  100.00    NaN    NaN    NaN    NaN    NaN    NaN   \n",
       "1   98.20  ...   95.72   99.00    NaN    NaN    NaN    NaN    NaN    NaN   \n",
       "2   96.90  ...   99.17   95.84    NaN    NaN    NaN    NaN    NaN    NaN   \n",
       "3   99.10  ...   97.29   98.19    NaN    NaN    NaN    NaN    NaN    NaN   \n",
       "4   97.90  ...   95.45   94.88    NaN    NaN    NaN    NaN    NaN    NaN   \n",
       "\n",
       "  may-19 jun-19  \n",
       "0    NaN    NaN  \n",
       "1    NaN    NaN  \n",
       "2    NaN    NaN  \n",
       "3    NaN    NaN  \n",
       "4    NaN    NaN  \n",
       "\n",
       "[5 rows x 112 columns]"
      ]
     },
     "execution_count": 6,
     "metadata": {},
     "output_type": "execute_result"
    }
   ],
   "source": [
    "#Cleaning columns - converting to lower case, removing whitespaces from front and end and replacing whitespaces with underscores.\n",
    "agencies.columns = agencies.columns.str.lower()\n",
    "agencies.columns = agencies.columns.str.strip()\n",
    "agencies.columns = agencies.columns.str.replace(\" \", \"_\")\n",
    "agencies.head()"
   ]
  },
  {
   "cell_type": "code",
   "execution_count": 21,
   "metadata": {},
   "outputs": [
    {
     "name": "stdout",
     "output_type": "stream",
     "text": [
      "<class 'pandas.core.frame.DataFrame'>\n",
      "Index: 616 entries, 42 to 1146\n",
      "Columns: 112 entries, agency to jun-19\n",
      "dtypes: float64(8), object(104)\n",
      "memory usage: 543.8+ KB\n"
     ]
    }
   ],
   "source": [
    "nypd = agencies[agencies['agency'] == 'NYPD']\n",
    "nypd.info()"
   ]
  },
  {
   "cell_type": "code",
   "execution_count": 22,
   "metadata": {},
   "outputs": [
    {
     "data": {
      "text/html": [
       "<div>\n",
       "<style scoped>\n",
       "    .dataframe tbody tr th:only-of-type {\n",
       "        vertical-align: middle;\n",
       "    }\n",
       "\n",
       "    .dataframe tbody tr th {\n",
       "        vertical-align: top;\n",
       "    }\n",
       "\n",
       "    .dataframe thead th {\n",
       "        text-align: right;\n",
       "    }\n",
       "</style>\n",
       "<table border=\"1\" class=\"dataframe\">\n",
       "  <thead>\n",
       "    <tr style=\"text-align: right;\">\n",
       "      <th></th>\n",
       "      <th>agency</th>\n",
       "      <th>geographic_unit</th>\n",
       "      <th>geographic_identifier</th>\n",
       "      <th>indicator</th>\n",
       "      <th>jul-10</th>\n",
       "      <th>aug-10</th>\n",
       "      <th>sep-10</th>\n",
       "      <th>oct-10</th>\n",
       "      <th>nov-10</th>\n",
       "      <th>dec-10</th>\n",
       "      <th>...</th>\n",
       "      <th>sep-18</th>\n",
       "      <th>oct-18</th>\n",
       "      <th>nov-18</th>\n",
       "      <th>dec-18</th>\n",
       "      <th>jan-19</th>\n",
       "      <th>feb-19</th>\n",
       "      <th>mar-19</th>\n",
       "      <th>apr-19</th>\n",
       "      <th>may-19</th>\n",
       "      <th>jun-19</th>\n",
       "    </tr>\n",
       "  </thead>\n",
       "  <tbody>\n",
       "    <tr>\n",
       "      <th>42</th>\n",
       "      <td>NYPD</td>\n",
       "      <td>Precinct</td>\n",
       "      <td>106</td>\n",
       "      <td>Murder and non-negligent manslaughter</td>\n",
       "      <td>2</td>\n",
       "      <td>1</td>\n",
       "      <td>0</td>\n",
       "      <td>0</td>\n",
       "      <td>0</td>\n",
       "      <td>1</td>\n",
       "      <td>...</td>\n",
       "      <td>2</td>\n",
       "      <td>0</td>\n",
       "      <td>0.0</td>\n",
       "      <td>0.0</td>\n",
       "      <td>0.0</td>\n",
       "      <td>1.0</td>\n",
       "      <td>0.0</td>\n",
       "      <td>0.0</td>\n",
       "      <td>1.0</td>\n",
       "      <td>0.0</td>\n",
       "    </tr>\n",
       "    <tr>\n",
       "      <th>64</th>\n",
       "      <td>NYPD</td>\n",
       "      <td>Precinct</td>\n",
       "      <td>105</td>\n",
       "      <td>Murder and non-negligent manslaughter</td>\n",
       "      <td>0</td>\n",
       "      <td>1</td>\n",
       "      <td>1</td>\n",
       "      <td>2</td>\n",
       "      <td>2</td>\n",
       "      <td>0</td>\n",
       "      <td>...</td>\n",
       "      <td>1</td>\n",
       "      <td>0</td>\n",
       "      <td>0.0</td>\n",
       "      <td>0.0</td>\n",
       "      <td>0.0</td>\n",
       "      <td>0.0</td>\n",
       "      <td>1.0</td>\n",
       "      <td>0.0</td>\n",
       "      <td>0.0</td>\n",
       "      <td>0.0</td>\n",
       "    </tr>\n",
       "    <tr>\n",
       "      <th>314</th>\n",
       "      <td>NYPD</td>\n",
       "      <td>Precinct</td>\n",
       "      <td>104</td>\n",
       "      <td>Murder and non-negligent manslaughter</td>\n",
       "      <td>0</td>\n",
       "      <td>0</td>\n",
       "      <td>1</td>\n",
       "      <td>2</td>\n",
       "      <td>0</td>\n",
       "      <td>0</td>\n",
       "      <td>...</td>\n",
       "      <td>1</td>\n",
       "      <td>0</td>\n",
       "      <td>0.0</td>\n",
       "      <td>0.0</td>\n",
       "      <td>0.0</td>\n",
       "      <td>1.0</td>\n",
       "      <td>0.0</td>\n",
       "      <td>1.0</td>\n",
       "      <td>0.0</td>\n",
       "      <td>0.0</td>\n",
       "    </tr>\n",
       "    <tr>\n",
       "      <th>403</th>\n",
       "      <td>NYPD</td>\n",
       "      <td>Precinct</td>\n",
       "      <td>103</td>\n",
       "      <td>Murder and non-negligent manslaughter</td>\n",
       "      <td>2</td>\n",
       "      <td>1</td>\n",
       "      <td>3</td>\n",
       "      <td>0</td>\n",
       "      <td>1</td>\n",
       "      <td>3</td>\n",
       "      <td>...</td>\n",
       "      <td>0</td>\n",
       "      <td>0</td>\n",
       "      <td>1.0</td>\n",
       "      <td>0.0</td>\n",
       "      <td>2.0</td>\n",
       "      <td>1.0</td>\n",
       "      <td>0.0</td>\n",
       "      <td>1.0</td>\n",
       "      <td>1.0</td>\n",
       "      <td>0.0</td>\n",
       "    </tr>\n",
       "    <tr>\n",
       "      <th>445</th>\n",
       "      <td>NYPD</td>\n",
       "      <td>Precinct</td>\n",
       "      <td>94</td>\n",
       "      <td>Major felony crime</td>\n",
       "      <td>94</td>\n",
       "      <td>94</td>\n",
       "      <td>81</td>\n",
       "      <td>84</td>\n",
       "      <td>58</td>\n",
       "      <td>86</td>\n",
       "      <td>...</td>\n",
       "      <td>86</td>\n",
       "      <td>96</td>\n",
       "      <td>76.0</td>\n",
       "      <td>68.0</td>\n",
       "      <td>73.0</td>\n",
       "      <td>60.0</td>\n",
       "      <td>42.0</td>\n",
       "      <td>61.0</td>\n",
       "      <td>65.0</td>\n",
       "      <td>56.0</td>\n",
       "    </tr>\n",
       "  </tbody>\n",
       "</table>\n",
       "<p>5 rows × 112 columns</p>\n",
       "</div>"
      ],
      "text/plain": [
       "    agency geographic_unit geographic_identifier  \\\n",
       "42    NYPD        Precinct                   106   \n",
       "64    NYPD        Precinct                   105   \n",
       "314   NYPD        Precinct                   104   \n",
       "403   NYPD        Precinct                   103   \n",
       "445   NYPD        Precinct                    94   \n",
       "\n",
       "                                 indicator jul-10 aug-10 sep-10 oct-10 nov-10  \\\n",
       "42   Murder and non-negligent manslaughter      2      1      0      0      0   \n",
       "64   Murder and non-negligent manslaughter      0      1      1      2      2   \n",
       "314  Murder and non-negligent manslaughter      0      0      1      2      0   \n",
       "403  Murder and non-negligent manslaughter      2      1      3      0      1   \n",
       "445                     Major felony crime     94     94     81     84     58   \n",
       "\n",
       "    dec-10  ... sep-18 oct-18 nov-18 dec-18 jan-19 feb-19 mar-19 apr-19  \\\n",
       "42       1  ...      2      0    0.0    0.0    0.0    1.0    0.0    0.0   \n",
       "64       0  ...      1      0    0.0    0.0    0.0    0.0    1.0    0.0   \n",
       "314      0  ...      1      0    0.0    0.0    0.0    1.0    0.0    1.0   \n",
       "403      3  ...      0      0    1.0    0.0    2.0    1.0    0.0    1.0   \n",
       "445     86  ...     86     96   76.0   68.0   73.0   60.0   42.0   61.0   \n",
       "\n",
       "    may-19 jun-19  \n",
       "42     1.0    0.0  \n",
       "64     0.0    0.0  \n",
       "314    0.0    0.0  \n",
       "403    1.0    0.0  \n",
       "445   65.0   56.0  \n",
       "\n",
       "[5 rows x 112 columns]"
      ]
     },
     "execution_count": 22,
     "metadata": {},
     "output_type": "execute_result"
    }
   ],
   "source": [
    "nypd.head()"
   ]
  },
  {
   "cell_type": "code",
   "execution_count": 23,
   "metadata": {},
   "outputs": [
    {
     "data": {
      "text/html": [
       "<div>\n",
       "<style scoped>\n",
       "    .dataframe tbody tr th:only-of-type {\n",
       "        vertical-align: middle;\n",
       "    }\n",
       "\n",
       "    .dataframe tbody tr th {\n",
       "        vertical-align: top;\n",
       "    }\n",
       "\n",
       "    .dataframe thead th {\n",
       "        text-align: right;\n",
       "    }\n",
       "</style>\n",
       "<table border=\"1\" class=\"dataframe\">\n",
       "  <thead>\n",
       "    <tr style=\"text-align: right;\">\n",
       "      <th></th>\n",
       "      <th>agency</th>\n",
       "      <th>geographic_unit</th>\n",
       "      <th>geographic_identifier</th>\n",
       "      <th>indicator</th>\n",
       "    </tr>\n",
       "  </thead>\n",
       "  <tbody>\n",
       "    <tr>\n",
       "      <th>42</th>\n",
       "      <td>NYPD</td>\n",
       "      <td>Precinct</td>\n",
       "      <td>106</td>\n",
       "      <td>Murder and non-negligent manslaughter</td>\n",
       "    </tr>\n",
       "    <tr>\n",
       "      <th>64</th>\n",
       "      <td>NYPD</td>\n",
       "      <td>Precinct</td>\n",
       "      <td>105</td>\n",
       "      <td>Murder and non-negligent manslaughter</td>\n",
       "    </tr>\n",
       "    <tr>\n",
       "      <th>314</th>\n",
       "      <td>NYPD</td>\n",
       "      <td>Precinct</td>\n",
       "      <td>104</td>\n",
       "      <td>Murder and non-negligent manslaughter</td>\n",
       "    </tr>\n",
       "    <tr>\n",
       "      <th>403</th>\n",
       "      <td>NYPD</td>\n",
       "      <td>Precinct</td>\n",
       "      <td>103</td>\n",
       "      <td>Murder and non-negligent manslaughter</td>\n",
       "    </tr>\n",
       "    <tr>\n",
       "      <th>445</th>\n",
       "      <td>NYPD</td>\n",
       "      <td>Precinct</td>\n",
       "      <td>94</td>\n",
       "      <td>Major felony crime</td>\n",
       "    </tr>\n",
       "  </tbody>\n",
       "</table>\n",
       "</div>"
      ],
      "text/plain": [
       "    agency geographic_unit geographic_identifier  \\\n",
       "42    NYPD        Precinct                   106   \n",
       "64    NYPD        Precinct                   105   \n",
       "314   NYPD        Precinct                   104   \n",
       "403   NYPD        Precinct                   103   \n",
       "445   NYPD        Precinct                    94   \n",
       "\n",
       "                                 indicator  \n",
       "42   Murder and non-negligent manslaughter  \n",
       "64   Murder and non-negligent manslaughter  \n",
       "314  Murder and non-negligent manslaughter  \n",
       "403  Murder and non-negligent manslaughter  \n",
       "445                     Major felony crime  "
      ]
     },
     "execution_count": 23,
     "metadata": {},
     "output_type": "execute_result"
    }
   ],
   "source": [
    "columns1 = ['jul-10', \"aug-10\", \"sep-10\", \"oct-10\", \"nov-10\", \"dec-10\",\n",
    "           \"jan-11\", \"feb-11\", \"mar-11\", \"apr-11\", \"may-11\", \"jun-11\", \"jul-11\", \"aug-11\", \"sep-11\", \"oct-11\", \"nov-11\", \"dec-11\",\n",
    "           \"jan-12\", \"feb-12\", \"mar-12\", \"apr-12\", \"may-12\", \"jun-12\", \"jul-12\", \"aug-12\", \"sep-12\", \"oct-12\", \"nov-12\", \"dec-12\",\n",
    "           \"jan-13\", \"feb-13\", \"mar-13\", \"apr-13\", \"may-13\", \"jun-13\", \"jul-13\", \"aug-13\", \"sep-13\", \"oct-13\", \"nov-13\", \"dec-13\",\n",
    "           \"jan-14\", \"feb-14\", \"mar-14\", \"apr-14\", \"may-14\", \"jun-14\", \"jul-14\", \"aug-14\", \"sep-14\", \"oct-14\", \"nov-14\", \"dec-14\",\n",
    "           \"jan-15\", \"feb-15\", \"mar-15\", \"apr-15\", \"may-15\", \"jun-15\", \"jul-15\", \"aug-15\", \"sep-15\", \"oct-15\", \"nov-15\", \"dec-15\",\n",
    "           \"jan-16\", \"feb-16\", \"mar-16\", \"apr-16\", \"may-16\", \"jun-16\", \"jul-16\", \"aug-16\", \"sep-16\", \"oct-16\", \"nov-16\", \"dec-16\",\n",
    "           \"jan-17\", \"feb-17\", \"mar-17\", \"apr-17\", \"may-17\", \"jun-17\", \"jul-17\", \"aug-17\", \"sep-17\", \"oct-17\", \"nov-17\", \"dec-17\",\n",
    "           \"jan-18\", \"feb-18\", \"mar-18\", \"apr-18\", \"may-18\", \"jun-18\", \"jul-18\", \"aug-18\", \"sep-18\", \"oct-18\", \"nov-18\", \"dec-18\",\n",
    "           \"jan-19\", \"feb-19\", \"mar-19\", \"apr-19\", \"may-19\", \"jun-19\"]\n",
    "nypd_s = nypd.drop(columns1, axis=1)\n",
    "nypd_s.head()"
   ]
  },
  {
   "cell_type": "code",
   "execution_count": 28,
   "metadata": {},
   "outputs": [
    {
     "data": {
      "text/plain": [
       "array(['106', '105', '104', '103', '94', '120', '108', '123', '122',\n",
       "       '121', '115', '114', '113', '112', '111', '110', '109', '107',\n",
       "       '102', '101', '100', '90', '88', '84', '83', '81', '79', '78',\n",
       "       '77', '76', '75', '73', '72', '71', '70', '69', '68', '67', '66',\n",
       "       '63', '62', '61', '60', '52', '50', '49', '48', '47', '46', '45',\n",
       "       '44', '43', '42', '41', '40', '34', '33', '32', '30', '28', '26',\n",
       "       '25', '24', '23', '22', '20', '19', '18', '17', '14', '13', '10',\n",
       "       '9', '7', '6', '5', '1'], dtype=object)"
      ]
     },
     "execution_count": 28,
     "metadata": {},
     "output_type": "execute_result"
    }
   ],
   "source": [
    "nypd_s['geographic_identifier'].unique()"
   ]
  },
  {
   "cell_type": "markdown",
   "metadata": {},
   "source": [
    "## Try Nr. 2 - CSV from Website (created on my own)"
   ]
  },
  {
   "cell_type": "code",
   "execution_count": 29,
   "metadata": {},
   "outputs": [
    {
     "data": {
      "text/html": [
       "<div>\n",
       "<style scoped>\n",
       "    .dataframe tbody tr th:only-of-type {\n",
       "        vertical-align: middle;\n",
       "    }\n",
       "\n",
       "    .dataframe tbody tr th {\n",
       "        vertical-align: top;\n",
       "    }\n",
       "\n",
       "    .dataframe thead th {\n",
       "        text-align: right;\n",
       "    }\n",
       "</style>\n",
       "<table border=\"1\" class=\"dataframe\">\n",
       "  <thead>\n",
       "    <tr style=\"text-align: right;\">\n",
       "      <th></th>\n",
       "      <th>Borough</th>\n",
       "      <th>Precinct</th>\n",
       "      <th>Adress</th>\n",
       "    </tr>\n",
       "  </thead>\n",
       "  <tbody>\n",
       "    <tr>\n",
       "      <th>0</th>\n",
       "      <td>Manhattan</td>\n",
       "      <td>1st Precinct</td>\n",
       "      <td>16 Ericsson Place</td>\n",
       "    </tr>\n",
       "    <tr>\n",
       "      <th>1</th>\n",
       "      <td>Manhattan</td>\n",
       "      <td>5th Precinct</td>\n",
       "      <td>19 Elizabeth Street</td>\n",
       "    </tr>\n",
       "    <tr>\n",
       "      <th>2</th>\n",
       "      <td>Manhattan</td>\n",
       "      <td>6th Precinct</td>\n",
       "      <td>233 West 10 Street</td>\n",
       "    </tr>\n",
       "    <tr>\n",
       "      <th>3</th>\n",
       "      <td>Manhattan</td>\n",
       "      <td>7th Precinct</td>\n",
       "      <td>19 1/2 Pitt Street</td>\n",
       "    </tr>\n",
       "    <tr>\n",
       "      <th>4</th>\n",
       "      <td>Manhattan</td>\n",
       "      <td>9th Precinct</td>\n",
       "      <td>321 East 5 Street</td>\n",
       "    </tr>\n",
       "  </tbody>\n",
       "</table>\n",
       "</div>"
      ],
      "text/plain": [
       "     Borough      Precinct               Adress\n",
       "0  Manhattan  1st Precinct    16 Ericsson Place\n",
       "1  Manhattan  5th Precinct  19 Elizabeth Street\n",
       "2  Manhattan  6th Precinct   233 West 10 Street\n",
       "3  Manhattan  7th Precinct   19 1/2 Pitt Street\n",
       "4  Manhattan  9th Precinct    321 East 5 Street"
      ]
     },
     "execution_count": 29,
     "metadata": {},
     "output_type": "execute_result"
    }
   ],
   "source": [
    "police_st = pd.read_csv('./Data/NYC_Precicts_per_borough.csv')\n",
    "police_st.head()"
   ]
  },
  {
   "cell_type": "code",
   "execution_count": 32,
   "metadata": {},
   "outputs": [
    {
     "data": {
      "text/html": [
       "<div>\n",
       "<style scoped>\n",
       "    .dataframe tbody tr th:only-of-type {\n",
       "        vertical-align: middle;\n",
       "    }\n",
       "\n",
       "    .dataframe tbody tr th {\n",
       "        vertical-align: top;\n",
       "    }\n",
       "\n",
       "    .dataframe thead tr th {\n",
       "        text-align: left;\n",
       "    }\n",
       "\n",
       "    .dataframe thead tr:last-of-type th {\n",
       "        text-align: right;\n",
       "    }\n",
       "</style>\n",
       "<table border=\"1\" class=\"dataframe\">\n",
       "  <thead>\n",
       "    <tr>\n",
       "      <th></th>\n",
       "      <th>Precinct</th>\n",
       "    </tr>\n",
       "    <tr>\n",
       "      <th></th>\n",
       "      <th>count</th>\n",
       "    </tr>\n",
       "    <tr>\n",
       "      <th>Borough</th>\n",
       "      <th></th>\n",
       "    </tr>\n",
       "  </thead>\n",
       "  <tbody>\n",
       "    <tr>\n",
       "      <th>Bronx</th>\n",
       "      <td>12</td>\n",
       "    </tr>\n",
       "    <tr>\n",
       "      <th>Brooklyn</th>\n",
       "      <td>23</td>\n",
       "    </tr>\n",
       "    <tr>\n",
       "      <th>Manhattan</th>\n",
       "      <td>22</td>\n",
       "    </tr>\n",
       "    <tr>\n",
       "      <th>Queens</th>\n",
       "      <td>16</td>\n",
       "    </tr>\n",
       "    <tr>\n",
       "      <th>Staten Island</th>\n",
       "      <td>4</td>\n",
       "    </tr>\n",
       "  </tbody>\n",
       "</table>\n",
       "</div>"
      ],
      "text/plain": [
       "              Precinct\n",
       "                 count\n",
       "Borough               \n",
       "Bronx               12\n",
       "Brooklyn            23\n",
       "Manhattan           22\n",
       "Queens              16\n",
       "Staten Island        4"
      ]
     },
     "execution_count": 32,
     "metadata": {},
     "output_type": "execute_result"
    }
   ],
   "source": [
    "police_st.groupby('Borough').agg({'Precinct':['count']})"
   ]
  },
  {
   "cell_type": "code",
   "execution_count": 33,
   "metadata": {},
   "outputs": [
    {
     "data": {
      "text/html": [
       "<div>\n",
       "<style scoped>\n",
       "    .dataframe tbody tr th:only-of-type {\n",
       "        vertical-align: middle;\n",
       "    }\n",
       "\n",
       "    .dataframe tbody tr th {\n",
       "        vertical-align: top;\n",
       "    }\n",
       "\n",
       "    .dataframe thead th {\n",
       "        text-align: right;\n",
       "    }\n",
       "</style>\n",
       "<table border=\"1\" class=\"dataframe\">\n",
       "  <thead>\n",
       "    <tr style=\"text-align: right;\">\n",
       "      <th></th>\n",
       "      <th>Borough</th>\n",
       "      <th>Precinct</th>\n",
       "      <th>Adress</th>\n",
       "    </tr>\n",
       "  </thead>\n",
       "  <tbody>\n",
       "    <tr>\n",
       "      <th>0</th>\n",
       "      <td>Manhattan</td>\n",
       "      <td>1st Precinct</td>\n",
       "      <td>16 Ericsson Place</td>\n",
       "    </tr>\n",
       "    <tr>\n",
       "      <th>1</th>\n",
       "      <td>Manhattan</td>\n",
       "      <td>5th Precinct</td>\n",
       "      <td>19 Elizabeth Street</td>\n",
       "    </tr>\n",
       "    <tr>\n",
       "      <th>2</th>\n",
       "      <td>Manhattan</td>\n",
       "      <td>6th Precinct</td>\n",
       "      <td>233 West 10 Street</td>\n",
       "    </tr>\n",
       "    <tr>\n",
       "      <th>3</th>\n",
       "      <td>Manhattan</td>\n",
       "      <td>7th Precinct</td>\n",
       "      <td>19 1/2 Pitt Street</td>\n",
       "    </tr>\n",
       "    <tr>\n",
       "      <th>4</th>\n",
       "      <td>Manhattan</td>\n",
       "      <td>9th Precinct</td>\n",
       "      <td>321 East 5 Street</td>\n",
       "    </tr>\n",
       "    <tr>\n",
       "      <th>...</th>\n",
       "      <td>...</td>\n",
       "      <td>...</td>\n",
       "      <td>...</td>\n",
       "    </tr>\n",
       "    <tr>\n",
       "      <th>72</th>\n",
       "      <td>Queens</td>\n",
       "      <td>115th Precinct</td>\n",
       "      <td>92-15 Northern Boulevard</td>\n",
       "    </tr>\n",
       "    <tr>\n",
       "      <th>73</th>\n",
       "      <td>Staten Island</td>\n",
       "      <td>120th Precinct</td>\n",
       "      <td>78 Richmond Terrace</td>\n",
       "    </tr>\n",
       "    <tr>\n",
       "      <th>74</th>\n",
       "      <td>Staten Island</td>\n",
       "      <td>121st Precinct</td>\n",
       "      <td>970 Richmond Avenue</td>\n",
       "    </tr>\n",
       "    <tr>\n",
       "      <th>75</th>\n",
       "      <td>Staten Island</td>\n",
       "      <td>122nd Precinct</td>\n",
       "      <td>2320 Hylan Boulevard</td>\n",
       "    </tr>\n",
       "    <tr>\n",
       "      <th>76</th>\n",
       "      <td>Staten Island</td>\n",
       "      <td>123rd Precinct</td>\n",
       "      <td>116 Main Street</td>\n",
       "    </tr>\n",
       "  </tbody>\n",
       "</table>\n",
       "<p>77 rows × 3 columns</p>\n",
       "</div>"
      ],
      "text/plain": [
       "          Borough        Precinct                    Adress\n",
       "0       Manhattan    1st Precinct         16 Ericsson Place\n",
       "1       Manhattan    5th Precinct       19 Elizabeth Street\n",
       "2       Manhattan    6th Precinct        233 West 10 Street\n",
       "3       Manhattan    7th Precinct        19 1/2 Pitt Street\n",
       "4       Manhattan    9th Precinct         321 East 5 Street\n",
       "..            ...             ...                       ...\n",
       "72         Queens  115th Precinct  92-15 Northern Boulevard\n",
       "73  Staten Island  120th Precinct       78 Richmond Terrace\n",
       "74  Staten Island  121st Precinct       970 Richmond Avenue\n",
       "75  Staten Island  122nd Precinct      2320 Hylan Boulevard\n",
       "76  Staten Island  123rd Precinct           116 Main Street\n",
       "\n",
       "[77 rows x 3 columns]"
      ]
     },
     "execution_count": 33,
     "metadata": {},
     "output_type": "execute_result"
    }
   ],
   "source": [
    "police_st"
   ]
  }
 ],
 "metadata": {
  "kernelspec": {
   "display_name": "nf_sql",
   "language": "python",
   "name": "python3"
  },
  "language_info": {
   "codemirror_mode": {
    "name": "ipython",
    "version": 3
   },
   "file_extension": ".py",
   "mimetype": "text/x-python",
   "name": "python",
   "nbconvert_exporter": "python",
   "pygments_lexer": "ipython3",
   "version": "3.9.18"
  }
 },
 "nbformat": 4,
 "nbformat_minor": 2
}
