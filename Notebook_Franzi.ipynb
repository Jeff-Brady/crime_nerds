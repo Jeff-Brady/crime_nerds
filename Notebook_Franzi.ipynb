{
 "cells": [
  {
   "cell_type": "markdown",
   "metadata": {},
   "source": [
    "# Crime Data"
   ]
  },
  {
   "cell_type": "code",
   "execution_count": 1,
   "metadata": {},
   "outputs": [],
   "source": [
    "import pandas as pd\n",
    "import seaborn as sns\n",
    "import matplotlib.pyplot as plt"
   ]
  },
  {
   "cell_type": "markdown",
   "metadata": {},
   "source": [
    "# Unemployment Data"
   ]
  },
  {
   "cell_type": "markdown",
   "metadata": {},
   "source": [
    "Insert Data from the Excel File"
   ]
  },
  {
   "cell_type": "markdown",
   "metadata": {},
   "source": [
    "## Per Borough"
   ]
  },
  {
   "cell_type": "code",
   "execution_count": null,
   "metadata": {},
   "outputs": [],
   "source": [
    "unemployed = pd.read_excel('./Data/Unemployment_NYC.xlsx',sheet_name=0)"
   ]
  },
  {
   "cell_type": "code",
   "execution_count": null,
   "metadata": {},
   "outputs": [],
   "source": [
    "# converting headers to lowercase and removing whitespaces:\n",
    "unemployed.columns = unemployed.columns.str.lower()\n",
    "unemployed.columns = unemployed.columns.str.strip()"
   ]
  },
  {
   "cell_type": "code",
   "execution_count": null,
   "metadata": {},
   "outputs": [],
   "source": [
    "unemployed.head()"
   ]
  },
  {
   "cell_type": "code",
   "execution_count": null,
   "metadata": {},
   "outputs": [],
   "source": [
    "unemployed.info()"
   ]
  },
  {
   "cell_type": "markdown",
   "metadata": {},
   "source": [
    "### Filter the data\n",
    "for the 5 boroughs: Bronx, Kings, New York, Queens, Richmond are the official names for the boroughs"
   ]
  },
  {
   "cell_type": "code",
   "execution_count": null,
   "metadata": {},
   "outputs": [],
   "source": [
    "unemployed['areatype'].unique()"
   ]
  },
  {
   "cell_type": "code",
   "execution_count": null,
   "metadata": {},
   "outputs": [],
   "source": [
    "unemployed['area'].unique()"
   ]
  },
  {
   "cell_type": "code",
   "execution_count": null,
   "metadata": {},
   "outputs": [],
   "source": [
    "borough = ['Bronx County', 'Kings County', 'New York County', 'Queens County', 'Richmond County']\n",
    "borough_unem = unemployed.loc[unemployed['area'].isin(borough)]\n",
    "borough_unem.head()"
   ]
  },
  {
   "cell_type": "code",
   "execution_count": null,
   "metadata": {},
   "outputs": [],
   "source": [
    "borough_unem.info()"
   ]
  },
  {
   "cell_type": "code",
   "execution_count": null,
   "metadata": {},
   "outputs": [],
   "source": [
    "borough_unem['avg_year']= borough_unem['month']==0\n",
    "borough_unem.head()"
   ]
  },
  {
   "cell_type": "code",
   "execution_count": null,
   "metadata": {},
   "outputs": [],
   "source": [
    "borough_unem['avg_year'].unique()"
   ]
  },
  {
   "cell_type": "markdown",
   "metadata": {},
   "source": [
    "### Creating df with only avg yearly and with only monthly data."
   ]
  },
  {
   "cell_type": "code",
   "execution_count": null,
   "metadata": {},
   "outputs": [],
   "source": [
    "bo_unem_yearly = borough_unem.loc[borough_unem['avg_year'] == True]\n",
    "bo_unem_yearly.head()"
   ]
  },
  {
   "cell_type": "code",
   "execution_count": null,
   "metadata": {},
   "outputs": [],
   "source": [
    "bo_unem_yearly.info()"
   ]
  },
  {
   "cell_type": "code",
   "execution_count": null,
   "metadata": {},
   "outputs": [],
   "source": [
    "bo_unem_monthly = borough_unem.loc[borough_unem['avg_year'] == False]\n",
    "bo_unem_monthly.head()"
   ]
  },
  {
   "cell_type": "code",
   "execution_count": null,
   "metadata": {},
   "outputs": [],
   "source": [
    "# Resetting Index:\n",
    "bo_unem_yearly.reset_index(inplace=True)\n",
    "bo_unem_yearly.drop('index', axis=1, inplace=True)\n",
    "bo_unem_yearly.head()"
   ]
  },
  {
   "cell_type": "code",
   "execution_count": null,
   "metadata": {},
   "outputs": [],
   "source": [
    "# Resetting Index monthly:\n",
    "bo_unem_monthly.reset_index(inplace=True)\n",
    "bo_unem_monthly.drop('index', axis=1, inplace=True)\n",
    "bo_unem_monthly.head()"
   ]
  },
  {
   "cell_type": "code",
   "execution_count": null,
   "metadata": {},
   "outputs": [],
   "source": [
    "bo_unem_monthly.info()"
   ]
  },
  {
   "cell_type": "code",
   "execution_count": null,
   "metadata": {},
   "outputs": [],
   "source": [
    "#Including new column (day) to convert to datetime\n",
    "bo_unem_monthly_d = bo_unem_monthly\n",
    "bo_unem_monthly_d['day'] = 1\n",
    "bo_unem_monthly_d.head()"
   ]
  },
  {
   "cell_type": "code",
   "execution_count": null,
   "metadata": {},
   "outputs": [],
   "source": [
    "#Inserting Date\n",
    "bo_unem_monthly_d['date'] = pd.to_datetime(bo_unem_monthly[['year', 'month', 'day']], format=\"%y/%m\")\n",
    "bo_unem_monthly_d.head()"
   ]
  },
  {
   "cell_type": "code",
   "execution_count": null,
   "metadata": {},
   "outputs": [],
   "source": [
    "# dropping columns we don't need\n",
    "bo_unem_monthly_d.drop(['areatype', 'avg_year', 'day'], axis= 1, inplace = True)\n",
    "bo_unem_monthly_d.head()"
   ]
  },
  {
   "cell_type": "code",
   "execution_count": null,
   "metadata": {},
   "outputs": [],
   "source": [
    "bo_unem_monthly_d.head()"
   ]
  },
  {
   "cell_type": "code",
   "execution_count": null,
   "metadata": {},
   "outputs": [],
   "source": [
    "bo_unem_monthly_d.info()"
   ]
  },
  {
   "cell_type": "markdown",
   "metadata": {},
   "source": [
    "### Looking at the Data"
   ]
  },
  {
   "cell_type": "code",
   "execution_count": null,
   "metadata": {},
   "outputs": [],
   "source": [
    "plt.figure(figsize=(12, 6))\n",
    "\n",
    "# Create the histogram with 'waiting_for_truck_time'\n",
    "sns.lineplot(x='date',y = 'unemprate', hue='area', data=bo_unem_monthly_d, linewidth=1, color='palevioletred')\n",
    "# Fill the area under the curve with blue color\n",
    "#plt.fill_between(harrisburg_full['Date '], harrisburg_full['pct_cancelled'], color='palevioletred', alpha=0.3)\n",
    "# Set labels and title\n",
    "##plt.xlabel('pct_cancelled')\n",
    "plt.ylabel('unemploymentrate')\n",
    "plt.title('Rate of Unemployment')\n",
    "\n",
    "# Show the legend\n",
    "plt.legend()\n",
    "\n",
    "# Show the plot\n",
    "plt.show()"
   ]
  },
  {
   "cell_type": "markdown",
   "metadata": {},
   "source": []
  },
  {
   "cell_type": "markdown",
   "metadata": {},
   "source": [
    "## Data for whole NYC"
   ]
  },
  {
   "cell_type": "code",
   "execution_count": null,
   "metadata": {},
   "outputs": [],
   "source": [
    "area = pd.read_excel('./data/Unemployment_NYC.xlsx',sheet_name=1)\n",
    "area.head()"
   ]
  },
  {
   "cell_type": "code",
   "execution_count": null,
   "metadata": {},
   "outputs": [],
   "source": [
    "# converting headers to lowercase and removing whitespaces:\n",
    "area.columns = area.columns.str.lower()\n",
    "area.columns = area.columns.str.strip()\n",
    "area.head()"
   ]
  },
  {
   "cell_type": "code",
   "execution_count": null,
   "metadata": {},
   "outputs": [],
   "source": [
    "area['area'].unique()"
   ]
  },
  {
   "cell_type": "code",
   "execution_count": null,
   "metadata": {},
   "outputs": [],
   "source": [
    "nyc = area.loc[area['area'].isin(['New York City'])]\n",
    "nyc.head()"
   ]
  },
  {
   "cell_type": "code",
   "execution_count": null,
   "metadata": {},
   "outputs": [],
   "source": [
    "nyc.info()"
   ]
  },
  {
   "cell_type": "markdown",
   "metadata": {},
   "source": [
    "### Creating DF with monthly and yearly"
   ]
  },
  {
   "cell_type": "code",
   "execution_count": null,
   "metadata": {},
   "outputs": [],
   "source": [
    "nyc_yearly = nyc.loc[nyc['month'] == 0]\n",
    "nyc_yearly.head()"
   ]
  },
  {
   "cell_type": "code",
   "execution_count": null,
   "metadata": {},
   "outputs": [],
   "source": [
    "nyc_monthly = nyc.loc[nyc['month'] != 0]\n",
    "nyc_monthly.head()"
   ]
  },
  {
   "cell_type": "code",
   "execution_count": null,
   "metadata": {},
   "outputs": [],
   "source": [
    "# Resetting Index monthly:\n",
    "nyc_monthly.reset_index(inplace=True)\n",
    "nyc_monthly.drop('index', axis=1, inplace=True)\n",
    "nyc_monthly.head()"
   ]
  },
  {
   "cell_type": "code",
   "execution_count": null,
   "metadata": {},
   "outputs": [],
   "source": [
    "#Including new column (day) to convert to datetime\n",
    "nyc_monthly_d = nyc_monthly\n",
    "nyc_monthly_d['day'] = 1\n",
    "\n",
    "#Inserting Date\n",
    "nyc_monthly_d['date'] = pd.to_datetime(nyc_monthly_d[['year', 'month', 'day']], format=\"%y/%m\")\n",
    "\n",
    "nyc_monthly_d.head()"
   ]
  },
  {
   "cell_type": "code",
   "execution_count": null,
   "metadata": {},
   "outputs": [],
   "source": [
    "# dropping columns we don't need\n",
    "nyc_monthly_d.drop(['areatype', 'day'], axis= 1, inplace = True)\n",
    "nyc_monthly_d.head()"
   ]
  },
  {
   "cell_type": "code",
   "execution_count": null,
   "metadata": {},
   "outputs": [],
   "source": [
    "nyc_monthly_d.info()"
   ]
  },
  {
   "cell_type": "markdown",
   "metadata": {},
   "source": [
    "## Concatenate NYC and Borough Data"
   ]
  },
  {
   "cell_type": "code",
   "execution_count": null,
   "metadata": {},
   "outputs": [],
   "source": [
    "nyc_monthly_d.info()"
   ]
  },
  {
   "cell_type": "code",
   "execution_count": null,
   "metadata": {},
   "outputs": [],
   "source": [
    "bo_unem_monthly_d.info()"
   ]
  },
  {
   "cell_type": "code",
   "execution_count": null,
   "metadata": {},
   "outputs": [],
   "source": [
    "nyc_unemployment = pd.concat([bo_unem_monthly_d, nyc_monthly_d])\n",
    "nyc_unemployment.head()"
   ]
  },
  {
   "cell_type": "code",
   "execution_count": null,
   "metadata": {},
   "outputs": [],
   "source": [
    "nyc_unemployment.info()"
   ]
  },
  {
   "cell_type": "code",
   "execution_count": null,
   "metadata": {},
   "outputs": [],
   "source": [
    "#filtering for starting at 2000\n",
    "nyc_unemployment_filtered = nyc_unemployment[nyc_unemployment['date'].dt.year >= 2000]\n",
    "\n",
    "plt.figure(figsize=(12, 6))\n",
    "\n",
    "# Create the histogram with 'waiting_for_truck_time'\n",
    "sns.lineplot(x='date',y = 'unemprate', hue='area', data=nyc_unemployment_filtered, linewidth=1, color='palevioletred')\n",
    "# Fill the area under the curve with blue color\n",
    "#plt.fill_between(harrisburg_full['Date '], harrisburg_full['pct_cancelled'], color='palevioletred', alpha=0.3)\n",
    "# Set labels and title\n",
    "##plt.xlabel('pct_cancelled')\n",
    "plt.ylabel('unemploymentrate')\n",
    "plt.title('Rate of Unemployment')\n",
    "\n",
    "# Show the legend\n",
    "plt.legend()\n",
    "\n",
    "# Show the plot\n",
    "plt.show()"
   ]
  },
  {
   "cell_type": "markdown",
   "metadata": {},
   "source": [
    "## Uploading Data to Postgres"
   ]
  },
  {
   "cell_type": "code",
   "execution_count": null,
   "metadata": {},
   "outputs": [],
   "source": [
    "from sql_functions import get_engine"
   ]
  },
  {
   "cell_type": "code",
   "execution_count": null,
   "metadata": {},
   "outputs": [],
   "source": [
    "table_name = 'unemployment_nyc'\n",
    "schema = 'capstone_crime_nerds' # UPDATE 'TABLE_SCHEMA' based on schema used in class \n",
    "engine = get_engine() # assign engine to be able to query against the database\n",
    "# If the specified table doesn't exist yet, it will be created\n",
    "# With 'replace', your data will be replaced if the table already exists.\n",
    "# This may take some time ...\n",
    "\n",
    "# Write records stored in a dataframe to SQL database\n",
    "if engine!=None:\n",
    "    try:\n",
    "        nyc_unemployment.to_sql(name=table_name, # Name of SQL table\n",
    "                        con=engine, # Engine or connection\n",
    "                        if_exists='replace', # Drop the table before inserting new values \n",
    "                        schema=schema, # Use schmea that was defined earlier\n",
    "                        index=False, # Write DataFrame index as a column\n",
    "                        chunksize=5000, # Specify the number of rows in each batch to be written at a time\n",
    "                        method='multi') # Pass multiple values in a single INSERT clause\n",
    "        print(f\"The {table_name} table was imported successfully.\")\n",
    "    # Error handling\n",
    "    except (Exception, psycopg2.DatabaseError) as error:\n",
    "        print(error)\n",
    "        engine = None"
   ]
  },
  {
   "cell_type": "code",
   "execution_count": null,
   "metadata": {},
   "outputs": [],
   "source": [
    "table_name_sql = f'''SELECT count(*) \n",
    "                    FROM {schema}.{table_name}\n",
    "                    '''\n",
    "engine.execute(table_name_sql).fetchall()[0][0] == nyc_unemployment.shape[0]"
   ]
  },
  {
   "cell_type": "markdown",
   "metadata": {},
   "source": [
    "# Police Stations"
   ]
  },
  {
   "cell_type": "markdown",
   "metadata": {},
   "source": [
    "## Try Nr. 1"
   ]
  },
  {
   "cell_type": "code",
   "execution_count": null,
   "metadata": {},
   "outputs": [],
   "source": [
    "#Inserting Police Stations Data\n",
    "agencies = pd.read_csv('./data/Agency_Performance_Mapping_NYC.csv')\n",
    "agencies.head()"
   ]
  },
  {
   "cell_type": "code",
   "execution_count": null,
   "metadata": {},
   "outputs": [],
   "source": [
    "agencies.info()"
   ]
  },
  {
   "cell_type": "code",
   "execution_count": null,
   "metadata": {},
   "outputs": [],
   "source": [
    "agencies.shape"
   ]
  },
  {
   "cell_type": "code",
   "execution_count": null,
   "metadata": {},
   "outputs": [],
   "source": [
    "agencies['Agency'].unique()"
   ]
  },
  {
   "cell_type": "code",
   "execution_count": null,
   "metadata": {},
   "outputs": [],
   "source": [
    "#Cleaning columns - converting to lower case, removing whitespaces from front and end and replacing whitespaces with underscores.\n",
    "agencies.columns = agencies.columns.str.lower()\n",
    "agencies.columns = agencies.columns.str.strip()\n",
    "agencies.columns = agencies.columns.str.replace(\" \", \"_\")\n",
    "agencies.head()"
   ]
  },
  {
   "cell_type": "code",
   "execution_count": null,
   "metadata": {},
   "outputs": [],
   "source": [
    "nypd = agencies[agencies['agency'] == 'NYPD']\n",
    "nypd.info()"
   ]
  },
  {
   "cell_type": "code",
   "execution_count": null,
   "metadata": {},
   "outputs": [],
   "source": [
    "nypd.head()"
   ]
  },
  {
   "cell_type": "code",
   "execution_count": null,
   "metadata": {},
   "outputs": [],
   "source": [
    "columns1 = ['jul-10', \"aug-10\", \"sep-10\", \"oct-10\", \"nov-10\", \"dec-10\",\n",
    "           \"jan-11\", \"feb-11\", \"mar-11\", \"apr-11\", \"may-11\", \"jun-11\", \"jul-11\", \"aug-11\", \"sep-11\", \"oct-11\", \"nov-11\", \"dec-11\",\n",
    "           \"jan-12\", \"feb-12\", \"mar-12\", \"apr-12\", \"may-12\", \"jun-12\", \"jul-12\", \"aug-12\", \"sep-12\", \"oct-12\", \"nov-12\", \"dec-12\",\n",
    "           \"jan-13\", \"feb-13\", \"mar-13\", \"apr-13\", \"may-13\", \"jun-13\", \"jul-13\", \"aug-13\", \"sep-13\", \"oct-13\", \"nov-13\", \"dec-13\",\n",
    "           \"jan-14\", \"feb-14\", \"mar-14\", \"apr-14\", \"may-14\", \"jun-14\", \"jul-14\", \"aug-14\", \"sep-14\", \"oct-14\", \"nov-14\", \"dec-14\",\n",
    "           \"jan-15\", \"feb-15\", \"mar-15\", \"apr-15\", \"may-15\", \"jun-15\", \"jul-15\", \"aug-15\", \"sep-15\", \"oct-15\", \"nov-15\", \"dec-15\",\n",
    "           \"jan-16\", \"feb-16\", \"mar-16\", \"apr-16\", \"may-16\", \"jun-16\", \"jul-16\", \"aug-16\", \"sep-16\", \"oct-16\", \"nov-16\", \"dec-16\",\n",
    "           \"jan-17\", \"feb-17\", \"mar-17\", \"apr-17\", \"may-17\", \"jun-17\", \"jul-17\", \"aug-17\", \"sep-17\", \"oct-17\", \"nov-17\", \"dec-17\",\n",
    "           \"jan-18\", \"feb-18\", \"mar-18\", \"apr-18\", \"may-18\", \"jun-18\", \"jul-18\", \"aug-18\", \"sep-18\", \"oct-18\", \"nov-18\", \"dec-18\",\n",
    "           \"jan-19\", \"feb-19\", \"mar-19\", \"apr-19\", \"may-19\", \"jun-19\"]\n",
    "nypd_s = nypd.drop(columns1, axis=1)\n",
    "nypd_s.head()"
   ]
  },
  {
   "cell_type": "code",
   "execution_count": null,
   "metadata": {},
   "outputs": [],
   "source": [
    "nypd_s['geographic_identifier'].unique()"
   ]
  },
  {
   "cell_type": "markdown",
   "metadata": {},
   "source": [
    "## Try Nr. 2 - CSV from Website (created on my own)"
   ]
  },
  {
   "cell_type": "code",
   "execution_count": null,
   "metadata": {},
   "outputs": [],
   "source": [
    "police_st = pd.read_csv('./data/NYC_Precicts_per_borough.csv')\n",
    "police_st.head()"
   ]
  },
  {
   "cell_type": "code",
   "execution_count": null,
   "metadata": {},
   "outputs": [],
   "source": [
    "police_st.columns = police_st.columns.str.lower()\n",
    "police_st.columns = police_st.columns.str.strip()\n",
    "police_st.head()"
   ]
  },
  {
   "cell_type": "code",
   "execution_count": null,
   "metadata": {},
   "outputs": [],
   "source": [
    "police_pb = police_st.groupby('borough')['precinct'].count()\n",
    "police_pb\n",
    "\n",
    "#.agg({'Precinct':['count']})"
   ]
  },
  {
   "cell_type": "code",
   "execution_count": null,
   "metadata": {},
   "outputs": [],
   "source": [
    "police_pb.info()"
   ]
  },
  {
   "cell_type": "code",
   "execution_count": null,
   "metadata": {},
   "outputs": [],
   "source": [
    "new_entry_dict = {'New York City': 77}\n",
    "\n",
    "# Umwandlung des Dictionarys in eine Series\n",
    "new_entry_series = pd.Series(new_entry_dict, name='borough')\n",
    "\n",
    "# Konkatenation der ursprünglichen Series mit der neuen Series\n",
    "police_series = pd.concat([police_pb, new_entry_series])\n",
    "\n",
    "police_series"
   ]
  },
  {
   "cell_type": "code",
   "execution_count": null,
   "metadata": {},
   "outputs": [],
   "source": [
    "police_df = police_series.reset_index()\n",
    "police_df.columns = ['borough', 'no_policestation']\n",
    "police_df"
   ]
  },
  {
   "cell_type": "code",
   "execution_count": null,
   "metadata": {},
   "outputs": [],
   "source": [
    "police_st"
   ]
  },
  {
   "cell_type": "markdown",
   "metadata": {},
   "source": [
    "# Size per borough and population (2022)"
   ]
  },
  {
   "cell_type": "code",
   "execution_count": null,
   "metadata": {},
   "outputs": [],
   "source": [
    "size = pd.read_csv('./data/Borough_Size.csv')\n",
    "size.head()"
   ]
  },
  {
   "cell_type": "code",
   "execution_count": null,
   "metadata": {},
   "outputs": [],
   "source": [
    "size"
   ]
  },
  {
   "cell_type": "code",
   "execution_count": null,
   "metadata": {},
   "outputs": [],
   "source": [
    "size.info()"
   ]
  },
  {
   "cell_type": "code",
   "execution_count": null,
   "metadata": {},
   "outputs": [],
   "source": [
    "size['size_sq_km'] = (size['size_sq_miles']*2.59).round(2)\n",
    "size"
   ]
  },
  {
   "cell_type": "code",
   "execution_count": null,
   "metadata": {},
   "outputs": [],
   "source": [
    "police_df"
   ]
  },
  {
   "cell_type": "code",
   "execution_count": null,
   "metadata": {},
   "outputs": [],
   "source": [
    "police_size = size.merge(police_df, how='outer', on = 'borough')\n",
    "police_size"
   ]
  },
  {
   "cell_type": "code",
   "execution_count": null,
   "metadata": {},
   "outputs": [],
   "source": [
    "police_size['no_ps_sq_km']= police_size['no_policestation']/police_size['size_sq_km']\n",
    "police_size"
   ]
  },
  {
   "cell_type": "code",
   "execution_count": null,
   "metadata": {},
   "outputs": [],
   "source": [
    "police_size['no_ps_pop']= police_size['no_policestation']/(police_size['population_2022']/100000)\n",
    "police_size"
   ]
  },
  {
   "cell_type": "code",
   "execution_count": null,
   "metadata": {},
   "outputs": [],
   "source": [
    "police_size['no_ps_sq_miles']= police_size['no_policestation']/(police_size['size_sq_miles'])\n",
    "police_size"
   ]
  },
  {
   "cell_type": "markdown",
   "metadata": {},
   "source": [
    "# Data on Salary of Police Officers etc."
   ]
  },
  {
   "cell_type": "code",
   "execution_count": 2,
   "metadata": {},
   "outputs": [
    {
     "name": "stderr",
     "output_type": "stream",
     "text": [
      "/var/folders/mc/1x4q7cs53knf6dvx4qb6jlg80000gn/T/ipykernel_6048/4271425421.py:1: DtypeWarning: Columns (7) have mixed types. Specify dtype option on import or set low_memory=False.\n",
      "  city_pay = pd.read_csv('./Data/Citywide_Payroll_Data_Yearly.csv')\n"
     ]
    },
    {
     "data": {
      "text/html": [
       "<div>\n",
       "<style scoped>\n",
       "    .dataframe tbody tr th:only-of-type {\n",
       "        vertical-align: middle;\n",
       "    }\n",
       "\n",
       "    .dataframe tbody tr th {\n",
       "        vertical-align: top;\n",
       "    }\n",
       "\n",
       "    .dataframe thead th {\n",
       "        text-align: right;\n",
       "    }\n",
       "</style>\n",
       "<table border=\"1\" class=\"dataframe\">\n",
       "  <thead>\n",
       "    <tr style=\"text-align: right;\">\n",
       "      <th></th>\n",
       "      <th>Fiscal Year</th>\n",
       "      <th>Payroll Number</th>\n",
       "      <th>Agency Name</th>\n",
       "      <th>Last Name</th>\n",
       "      <th>First Name</th>\n",
       "      <th>Mid Init</th>\n",
       "      <th>Agency Start Date</th>\n",
       "      <th>Work Location Borough</th>\n",
       "      <th>Title Description</th>\n",
       "      <th>Leave Status as of June 30</th>\n",
       "      <th>Base Salary</th>\n",
       "      <th>Pay Basis</th>\n",
       "      <th>Regular Hours</th>\n",
       "      <th>Regular Gross Paid</th>\n",
       "      <th>OT Hours</th>\n",
       "      <th>Total OT Paid</th>\n",
       "      <th>Total Other Pay</th>\n",
       "    </tr>\n",
       "  </thead>\n",
       "  <tbody>\n",
       "    <tr>\n",
       "      <th>0</th>\n",
       "      <td>2020</td>\n",
       "      <td>17.0</td>\n",
       "      <td>OFFICE OF EMERGENCY MANAGEMENT</td>\n",
       "      <td>BEREZIN</td>\n",
       "      <td>MIKHAIL</td>\n",
       "      <td>NaN</td>\n",
       "      <td>08/10/2015</td>\n",
       "      <td>BROOKLYN</td>\n",
       "      <td>EMERGENCY PREPAREDNESS MANAGER</td>\n",
       "      <td>ACTIVE</td>\n",
       "      <td>86005.0</td>\n",
       "      <td>per Annum</td>\n",
       "      <td>1820.0</td>\n",
       "      <td>84698.21</td>\n",
       "      <td>0.0</td>\n",
       "      <td>0.0</td>\n",
       "      <td>0.0</td>\n",
       "    </tr>\n",
       "    <tr>\n",
       "      <th>1</th>\n",
       "      <td>2020</td>\n",
       "      <td>17.0</td>\n",
       "      <td>OFFICE OF EMERGENCY MANAGEMENT</td>\n",
       "      <td>GEAGER</td>\n",
       "      <td>VERONICA</td>\n",
       "      <td>M</td>\n",
       "      <td>09/12/2016</td>\n",
       "      <td>BROOKLYN</td>\n",
       "      <td>EMERGENCY PREPAREDNESS MANAGER</td>\n",
       "      <td>ACTIVE</td>\n",
       "      <td>86005.0</td>\n",
       "      <td>per Annum</td>\n",
       "      <td>1820.0</td>\n",
       "      <td>84698.21</td>\n",
       "      <td>0.0</td>\n",
       "      <td>0.0</td>\n",
       "      <td>0.0</td>\n",
       "    </tr>\n",
       "    <tr>\n",
       "      <th>2</th>\n",
       "      <td>2020</td>\n",
       "      <td>17.0</td>\n",
       "      <td>OFFICE OF EMERGENCY MANAGEMENT</td>\n",
       "      <td>RAMANI</td>\n",
       "      <td>SHRADDHA</td>\n",
       "      <td>NaN</td>\n",
       "      <td>02/22/2016</td>\n",
       "      <td>BROOKLYN</td>\n",
       "      <td>EMERGENCY PREPAREDNESS MANAGER</td>\n",
       "      <td>ACTIVE</td>\n",
       "      <td>86005.0</td>\n",
       "      <td>per Annum</td>\n",
       "      <td>1820.0</td>\n",
       "      <td>84698.21</td>\n",
       "      <td>0.0</td>\n",
       "      <td>0.0</td>\n",
       "      <td>0.0</td>\n",
       "    </tr>\n",
       "    <tr>\n",
       "      <th>3</th>\n",
       "      <td>2020</td>\n",
       "      <td>17.0</td>\n",
       "      <td>OFFICE OF EMERGENCY MANAGEMENT</td>\n",
       "      <td>ROTTA</td>\n",
       "      <td>JONATHAN</td>\n",
       "      <td>D</td>\n",
       "      <td>09/16/2013</td>\n",
       "      <td>BROOKLYN</td>\n",
       "      <td>EMERGENCY PREPAREDNESS MANAGER</td>\n",
       "      <td>ACTIVE</td>\n",
       "      <td>86005.0</td>\n",
       "      <td>per Annum</td>\n",
       "      <td>1820.0</td>\n",
       "      <td>84698.21</td>\n",
       "      <td>0.0</td>\n",
       "      <td>0.0</td>\n",
       "      <td>0.0</td>\n",
       "    </tr>\n",
       "    <tr>\n",
       "      <th>4</th>\n",
       "      <td>2020</td>\n",
       "      <td>17.0</td>\n",
       "      <td>OFFICE OF EMERGENCY MANAGEMENT</td>\n",
       "      <td>WILSON II</td>\n",
       "      <td>ROBERT</td>\n",
       "      <td>P</td>\n",
       "      <td>04/30/2018</td>\n",
       "      <td>BROOKLYN</td>\n",
       "      <td>EMERGENCY PREPAREDNESS MANAGER</td>\n",
       "      <td>ACTIVE</td>\n",
       "      <td>86005.0</td>\n",
       "      <td>per Annum</td>\n",
       "      <td>1820.0</td>\n",
       "      <td>84698.21</td>\n",
       "      <td>0.0</td>\n",
       "      <td>0.0</td>\n",
       "      <td>0.0</td>\n",
       "    </tr>\n",
       "  </tbody>\n",
       "</table>\n",
       "</div>"
      ],
      "text/plain": [
       "   Fiscal Year  Payroll Number                     Agency Name  Last Name  \\\n",
       "0         2020            17.0  OFFICE OF EMERGENCY MANAGEMENT    BEREZIN   \n",
       "1         2020            17.0  OFFICE OF EMERGENCY MANAGEMENT     GEAGER   \n",
       "2         2020            17.0  OFFICE OF EMERGENCY MANAGEMENT     RAMANI   \n",
       "3         2020            17.0  OFFICE OF EMERGENCY MANAGEMENT      ROTTA   \n",
       "4         2020            17.0  OFFICE OF EMERGENCY MANAGEMENT  WILSON II   \n",
       "\n",
       "  First Name Mid Init Agency Start Date Work Location Borough  \\\n",
       "0    MIKHAIL      NaN        08/10/2015              BROOKLYN   \n",
       "1   VERONICA        M        09/12/2016              BROOKLYN   \n",
       "2   SHRADDHA      NaN        02/22/2016              BROOKLYN   \n",
       "3   JONATHAN        D        09/16/2013              BROOKLYN   \n",
       "4     ROBERT        P        04/30/2018              BROOKLYN   \n",
       "\n",
       "                Title Description Leave Status as of June 30  Base Salary  \\\n",
       "0  EMERGENCY PREPAREDNESS MANAGER                     ACTIVE      86005.0   \n",
       "1  EMERGENCY PREPAREDNESS MANAGER                     ACTIVE      86005.0   \n",
       "2  EMERGENCY PREPAREDNESS MANAGER                     ACTIVE      86005.0   \n",
       "3  EMERGENCY PREPAREDNESS MANAGER                     ACTIVE      86005.0   \n",
       "4  EMERGENCY PREPAREDNESS MANAGER                     ACTIVE      86005.0   \n",
       "\n",
       "   Pay Basis  Regular Hours  Regular Gross Paid  OT Hours  Total OT Paid  \\\n",
       "0  per Annum         1820.0            84698.21       0.0            0.0   \n",
       "1  per Annum         1820.0            84698.21       0.0            0.0   \n",
       "2  per Annum         1820.0            84698.21       0.0            0.0   \n",
       "3  per Annum         1820.0            84698.21       0.0            0.0   \n",
       "4  per Annum         1820.0            84698.21       0.0            0.0   \n",
       "\n",
       "   Total Other Pay  \n",
       "0              0.0  \n",
       "1              0.0  \n",
       "2              0.0  \n",
       "3              0.0  \n",
       "4              0.0  "
      ]
     },
     "execution_count": 2,
     "metadata": {},
     "output_type": "execute_result"
    }
   ],
   "source": [
    "city_pay = pd.read_csv('./data/Citywide_Payroll_Data_Yearly.csv')\n",
    "city_pay.head()\n",
    "\n",
    "#Notes:\n",
    "#OT = Over Time\n",
    "#All that is captured, is the employee's final base and gross salary at the end of the fiscal year.  In very limited cases, a check replacement and subsequent refund may reflect both the original check as well as the re-issued check in employee pay totals.  "
   ]
  },
  {
   "cell_type": "code",
   "execution_count": 3,
   "metadata": {},
   "outputs": [
    {
     "data": {
      "text/html": [
       "<div>\n",
       "<style scoped>\n",
       "    .dataframe tbody tr th:only-of-type {\n",
       "        vertical-align: middle;\n",
       "    }\n",
       "\n",
       "    .dataframe tbody tr th {\n",
       "        vertical-align: top;\n",
       "    }\n",
       "\n",
       "    .dataframe thead th {\n",
       "        text-align: right;\n",
       "    }\n",
       "</style>\n",
       "<table border=\"1\" class=\"dataframe\">\n",
       "  <thead>\n",
       "    <tr style=\"text-align: right;\">\n",
       "      <th></th>\n",
       "      <th>fiscal_year</th>\n",
       "      <th>payroll_number</th>\n",
       "      <th>agency_name</th>\n",
       "      <th>last_name</th>\n",
       "      <th>first_name</th>\n",
       "      <th>mid_init</th>\n",
       "      <th>agency_start_date</th>\n",
       "      <th>work_location_borough</th>\n",
       "      <th>title_description</th>\n",
       "      <th>leave_status_as_of_june_30</th>\n",
       "      <th>base_salary</th>\n",
       "      <th>pay_basis</th>\n",
       "      <th>regular_hours</th>\n",
       "      <th>regular_gross_paid</th>\n",
       "      <th>ot_hours</th>\n",
       "      <th>total_ot_paid</th>\n",
       "      <th>total_other_pay</th>\n",
       "    </tr>\n",
       "  </thead>\n",
       "  <tbody>\n",
       "    <tr>\n",
       "      <th>0</th>\n",
       "      <td>2020</td>\n",
       "      <td>17.0</td>\n",
       "      <td>OFFICE OF EMERGENCY MANAGEMENT</td>\n",
       "      <td>BEREZIN</td>\n",
       "      <td>MIKHAIL</td>\n",
       "      <td>NaN</td>\n",
       "      <td>08/10/2015</td>\n",
       "      <td>BROOKLYN</td>\n",
       "      <td>EMERGENCY PREPAREDNESS MANAGER</td>\n",
       "      <td>ACTIVE</td>\n",
       "      <td>86005.0</td>\n",
       "      <td>per Annum</td>\n",
       "      <td>1820.0</td>\n",
       "      <td>84698.21</td>\n",
       "      <td>0.0</td>\n",
       "      <td>0.0</td>\n",
       "      <td>0.0</td>\n",
       "    </tr>\n",
       "    <tr>\n",
       "      <th>1</th>\n",
       "      <td>2020</td>\n",
       "      <td>17.0</td>\n",
       "      <td>OFFICE OF EMERGENCY MANAGEMENT</td>\n",
       "      <td>GEAGER</td>\n",
       "      <td>VERONICA</td>\n",
       "      <td>M</td>\n",
       "      <td>09/12/2016</td>\n",
       "      <td>BROOKLYN</td>\n",
       "      <td>EMERGENCY PREPAREDNESS MANAGER</td>\n",
       "      <td>ACTIVE</td>\n",
       "      <td>86005.0</td>\n",
       "      <td>per Annum</td>\n",
       "      <td>1820.0</td>\n",
       "      <td>84698.21</td>\n",
       "      <td>0.0</td>\n",
       "      <td>0.0</td>\n",
       "      <td>0.0</td>\n",
       "    </tr>\n",
       "    <tr>\n",
       "      <th>2</th>\n",
       "      <td>2020</td>\n",
       "      <td>17.0</td>\n",
       "      <td>OFFICE OF EMERGENCY MANAGEMENT</td>\n",
       "      <td>RAMANI</td>\n",
       "      <td>SHRADDHA</td>\n",
       "      <td>NaN</td>\n",
       "      <td>02/22/2016</td>\n",
       "      <td>BROOKLYN</td>\n",
       "      <td>EMERGENCY PREPAREDNESS MANAGER</td>\n",
       "      <td>ACTIVE</td>\n",
       "      <td>86005.0</td>\n",
       "      <td>per Annum</td>\n",
       "      <td>1820.0</td>\n",
       "      <td>84698.21</td>\n",
       "      <td>0.0</td>\n",
       "      <td>0.0</td>\n",
       "      <td>0.0</td>\n",
       "    </tr>\n",
       "    <tr>\n",
       "      <th>3</th>\n",
       "      <td>2020</td>\n",
       "      <td>17.0</td>\n",
       "      <td>OFFICE OF EMERGENCY MANAGEMENT</td>\n",
       "      <td>ROTTA</td>\n",
       "      <td>JONATHAN</td>\n",
       "      <td>D</td>\n",
       "      <td>09/16/2013</td>\n",
       "      <td>BROOKLYN</td>\n",
       "      <td>EMERGENCY PREPAREDNESS MANAGER</td>\n",
       "      <td>ACTIVE</td>\n",
       "      <td>86005.0</td>\n",
       "      <td>per Annum</td>\n",
       "      <td>1820.0</td>\n",
       "      <td>84698.21</td>\n",
       "      <td>0.0</td>\n",
       "      <td>0.0</td>\n",
       "      <td>0.0</td>\n",
       "    </tr>\n",
       "    <tr>\n",
       "      <th>4</th>\n",
       "      <td>2020</td>\n",
       "      <td>17.0</td>\n",
       "      <td>OFFICE OF EMERGENCY MANAGEMENT</td>\n",
       "      <td>WILSON II</td>\n",
       "      <td>ROBERT</td>\n",
       "      <td>P</td>\n",
       "      <td>04/30/2018</td>\n",
       "      <td>BROOKLYN</td>\n",
       "      <td>EMERGENCY PREPAREDNESS MANAGER</td>\n",
       "      <td>ACTIVE</td>\n",
       "      <td>86005.0</td>\n",
       "      <td>per Annum</td>\n",
       "      <td>1820.0</td>\n",
       "      <td>84698.21</td>\n",
       "      <td>0.0</td>\n",
       "      <td>0.0</td>\n",
       "      <td>0.0</td>\n",
       "    </tr>\n",
       "  </tbody>\n",
       "</table>\n",
       "</div>"
      ],
      "text/plain": [
       "   fiscal_year  payroll_number                     agency_name  last_name  \\\n",
       "0         2020            17.0  OFFICE OF EMERGENCY MANAGEMENT    BEREZIN   \n",
       "1         2020            17.0  OFFICE OF EMERGENCY MANAGEMENT     GEAGER   \n",
       "2         2020            17.0  OFFICE OF EMERGENCY MANAGEMENT     RAMANI   \n",
       "3         2020            17.0  OFFICE OF EMERGENCY MANAGEMENT      ROTTA   \n",
       "4         2020            17.0  OFFICE OF EMERGENCY MANAGEMENT  WILSON II   \n",
       "\n",
       "  first_name mid_init agency_start_date work_location_borough  \\\n",
       "0    MIKHAIL      NaN        08/10/2015              BROOKLYN   \n",
       "1   VERONICA        M        09/12/2016              BROOKLYN   \n",
       "2   SHRADDHA      NaN        02/22/2016              BROOKLYN   \n",
       "3   JONATHAN        D        09/16/2013              BROOKLYN   \n",
       "4     ROBERT        P        04/30/2018              BROOKLYN   \n",
       "\n",
       "                title_description leave_status_as_of_june_30  base_salary  \\\n",
       "0  EMERGENCY PREPAREDNESS MANAGER                     ACTIVE      86005.0   \n",
       "1  EMERGENCY PREPAREDNESS MANAGER                     ACTIVE      86005.0   \n",
       "2  EMERGENCY PREPAREDNESS MANAGER                     ACTIVE      86005.0   \n",
       "3  EMERGENCY PREPAREDNESS MANAGER                     ACTIVE      86005.0   \n",
       "4  EMERGENCY PREPAREDNESS MANAGER                     ACTIVE      86005.0   \n",
       "\n",
       "   pay_basis  regular_hours  regular_gross_paid  ot_hours  total_ot_paid  \\\n",
       "0  per Annum         1820.0            84698.21       0.0            0.0   \n",
       "1  per Annum         1820.0            84698.21       0.0            0.0   \n",
       "2  per Annum         1820.0            84698.21       0.0            0.0   \n",
       "3  per Annum         1820.0            84698.21       0.0            0.0   \n",
       "4  per Annum         1820.0            84698.21       0.0            0.0   \n",
       "\n",
       "   total_other_pay  \n",
       "0              0.0  \n",
       "1              0.0  \n",
       "2              0.0  \n",
       "3              0.0  \n",
       "4              0.0  "
      ]
     },
     "execution_count": 3,
     "metadata": {},
     "output_type": "execute_result"
    }
   ],
   "source": [
    "#Cleaning Column Names\n",
    "city_pay.columns = city_pay.columns.str.lower()\n",
    "city_pay.columns = city_pay.columns.str.strip()\n",
    "city_pay.columns = city_pay.columns.str.replace(\" \", \"_\")\n",
    "city_pay.head()"
   ]
  },
  {
   "cell_type": "code",
   "execution_count": 4,
   "metadata": {},
   "outputs": [
    {
     "name": "stdout",
     "output_type": "stream",
     "text": [
      "<class 'pandas.core.frame.DataFrame'>\n",
      "RangeIndex: 5662713 entries, 0 to 5662712\n",
      "Data columns (total 14 columns):\n",
      " #   Column                      Dtype  \n",
      "---  ------                      -----  \n",
      " 0   fiscal_year                 int64  \n",
      " 1   payroll_number              float64\n",
      " 2   agency_name                 object \n",
      " 3   agency_start_date           object \n",
      " 4   work_location_borough       object \n",
      " 5   title_description           object \n",
      " 6   leave_status_as_of_june_30  object \n",
      " 7   base_salary                 float64\n",
      " 8   pay_basis                   object \n",
      " 9   regular_hours               float64\n",
      " 10  regular_gross_paid          float64\n",
      " 11  ot_hours                    float64\n",
      " 12  total_ot_paid               float64\n",
      " 13  total_other_pay             float64\n",
      "dtypes: float64(7), int64(1), object(6)\n",
      "memory usage: 604.8+ MB\n"
     ]
    }
   ],
   "source": [
    "# Dropping Columns, we don't need.\n",
    "\n",
    "city_pay.drop(['last_name', 'first_name', 'mid_init'], axis=1, inplace=True)\n",
    "#city_pay.drop('mid_init', axis=1, inplace = True)\n",
    "city_pay.info()"
   ]
  },
  {
   "cell_type": "code",
   "execution_count": 5,
   "metadata": {},
   "outputs": [
    {
     "data": {
      "text/plain": [
       "array(['OFFICE OF EMERGENCY MANAGEMENT', 'OFFICE OF MANAGEMENT & BUDGET',\n",
       "       'PERSONNEL MONITORS', 'TAX COMMISSION', 'LAW DEPARTMENT',\n",
       "       'DEPT OF ED PEDAGOGICAL', 'DEPARTMENT OF CITY PLANNING',\n",
       "       'DEPARTMENT OF INVESTIGATION', 'TEACHERS RETIREMENT SYSTEM',\n",
       "       'CIVILIAN COMPLAINT REVIEW BD', 'POLICE DEPARTMENT',\n",
       "       'NYC HOUSING AUTHORITY', 'BOARD OF ELECTION POLL WORKERS',\n",
       "       'FIRE DEPARTMENT', \"NYC DEPT OF VETERANS' SERVICES\",\n",
       "       \"ADMIN FOR CHILDREN'S SVCS\", 'HRA/DEPT OF SOCIAL SERVICES',\n",
       "       'DEPT. OF HOMELESS SERVICES', 'DEPARTMENT OF CORRECTION',\n",
       "       'BOARD OF CORRECTION', 'MAYORS OFFICE OF CONTRACT SVCS',\n",
       "       'PUBLIC ADVOCATE', 'CITY COUNCIL', 'CITY CLERK',\n",
       "       'DEPARTMENT FOR THE AGING', 'CULTURAL AFFAIRS',\n",
       "       'FINANCIAL INFO SVCS AGENCY', 'DEPARTMENT OF JUVENILE JUSTICE',\n",
       "       'OFF OF PAYROLL ADMINISTRATION', 'INDEPENDENT BUDGET OFFICE',\n",
       "       'EQUAL EMPLOY PRACTICES COMM', 'CIVIL SERVICE COMMISSION',\n",
       "       'LANDMARKS PRESERVATION COMM', 'TAXI & LIMOUSINE COMMISSION',\n",
       "       'MUNICIPAL WATER FIN AUTHORITY', 'DOE CUSTODIAL PAYROL',\n",
       "       'PUBLIC SERVICE CORPS', 'OFFICE OF LABOR RELATIONS',\n",
       "       'HUMAN RIGHTS COMMISSION', 'NYC POLICE PENSION FUND',\n",
       "       'NYC FIRE PENSION FUND', 'DEPT OF YOUTH & COMM DEV SRVS',\n",
       "       'OFFICE OF THE MAYOR', 'BOARD OF ELECTION',\n",
       "       'CAMPAIGN FINANCE BOARD', 'OFFICE OF THE ACTUARY',\n",
       "       'NYC EMPLOYEES RETIREMENT SYS', 'PRESIDENT BOROUGH OF MANHATTAN',\n",
       "       'BOROUGH PRESIDENT-BRONX', 'BOROUGH PRESIDENT-BROOKLYN',\n",
       "       'BOROUGH PRESIDENT-QUEENS', 'BOROUGH PRESIDENT-STATEN IS',\n",
       "       'OFFICE OF THE COMPTROLLER', 'DEPARTMENT OF EDUCATION ADMIN',\n",
       "       'CONFLICTS OF INTEREST BOARD', 'OFFICE OF COLLECTIVE BARGAININ',\n",
       "       'MANHATTAN COMMUNITY BOARD #1', 'MANHATTAN COMMUNITY BOARD #2',\n",
       "       'MANHATTAN COMMUNITY BOARD #3', 'MANHATTAN COMMUNITY BOARD #4',\n",
       "       'MANHATTAN COMMUNITY BOARD #5', 'MANHATTAN COMMUNITY BOARD #6',\n",
       "       'MANHATTAN COMMUNITY BOARD #7', 'MANHATTAN COMMUNITY BOARD #8',\n",
       "       'MANHATTAN COMMUNITY BOARD #9', 'MANHATTAN COMMUNITY BOARD #10',\n",
       "       'MANHATTAN COMMUNITY BOARD #11', 'MANHATTAN COMMUNITY BOARD #12',\n",
       "       'BRONX COMMUNITY BOARD #1', 'BRONX COMMUNITY BOARD #2',\n",
       "       'BRONX COMMUNITY BOARD #3', 'BRONX COMMUNITY BOARD #4',\n",
       "       'BRONX COMMUNITY BOARD #5', 'BRONX COMMUNITY BOARD #6',\n",
       "       'BRONX COMMUNITY BOARD #7', 'BRONX COMMUNITY BOARD #8',\n",
       "       'BRONX COMMUNITY BOARD #9', 'BRONX COMMUNITY BOARD #10',\n",
       "       'BRONX COMMUNITY BOARD #11', 'BRONX COMMUNITY BOARD #12',\n",
       "       'QUEENS COMMUNITY BOARD #1', 'QUEENS COMMUNITY BOARD #2',\n",
       "       'QUEENS COMMUNITY BOARD #3', 'QUEENS COMMUNITY BOARD #4',\n",
       "       'QUEENS COMMUNITY BOARD #5', 'QUEENS COMMUNITY BOARD #6',\n",
       "       'QUEENS COMMUNITY BOARD #7', 'QUEENS COMMUNITY BOARD #8',\n",
       "       'QUEENS COMMUNITY BOARD #9', 'QUEENS COMMUNITY BOARD #10',\n",
       "       'QUEENS COMMUNITY BOARD #11', 'QUEENS COMMUNITY BOARD #12',\n",
       "       'QUEENS COMMUNITY BOARD #13', 'QUEENS COMMUNITY BOARD #14',\n",
       "       'GUTTMAN COMMUNITY COLLEGE', 'COMMUNITY COLLEGE (BRONX)',\n",
       "       'COMMUNITY COLLEGE (QUEENSBORO)', 'COMMUNITY COLLEGE (KINGSBORO)',\n",
       "       'COMMUNITY COLLEGE (MANHATTAN)', 'CUNY CENTRAL OFFICE',\n",
       "       'COMMUNITY COLLEGE (HOSTOS)', 'COMMUNITY COLLEGE (LAGUARDIA)',\n",
       "       'HUNTER COLLEGE HIGH SCHOOL', 'BROOKLYN COMMUNITY BOARD #1',\n",
       "       'BROOKLYN COMMUNITY BOARD #2', 'BROOKLYN COMMUNITY BOARD #3',\n",
       "       'BROOKLYN COMMUNITY BOARD #4', 'BROOKLYN COMMUNITY BOARD #5',\n",
       "       'BROOKLYN COMMUNITY BOARD #6', 'BROOKLYN COMMUNITY BOARD #7',\n",
       "       'BROOKLYN COMMUNITY BOARD #8', 'BROOKLYN COMMUNITY BOARD #9',\n",
       "       'BROOKLYN COMMUNITY BOARD #10', 'BROOKLYN COMMUNITY BOARD #11',\n",
       "       'BROOKLYN COMMUNITY BOARD #12', 'BROOKLYN COMMUNITY BOARD #13',\n",
       "       'BROOKLYN COMMUNITY BOARD #14', 'BROOKLYN COMMUNITY BOARD #15',\n",
       "       'BROOKLYN COMMUNITY BOARD #16', 'BROOKLYN COMMUNITY BOARD #17',\n",
       "       'BROOKLYN COMMUNITY BOARD #18', 'STATEN ISLAND COMMUNITY BD #1',\n",
       "       'STATEN ISLAND COMMUNITY BD #2', 'STATEN ISLAND COMMUNITY BD #3',\n",
       "       'DEPT OF ED HRLY SUPPORT STAFF', 'DEPT OF ED PER DIEM TEACHERS',\n",
       "       'DEPT OF ED PER SESSION TEACHER', 'DEPT OF ED PARA PROFESSIONALS',\n",
       "       'DEPARTMENT OF PROBATION', 'DEPARTMENT OF BUSINESS SERV.',\n",
       "       'HOUSING PRESERVATION & DVLPMNT', 'DEPARTMENT OF BUILDINGS',\n",
       "       'DEPT OF HEALTH/MENTAL HYGIENE', 'ADMIN TRIALS AND HEARINGS',\n",
       "       'DEPT OF ENVIRONMENT PROTECTION', 'DEPARTMENT OF SANITATION',\n",
       "       'BUSINESS INTEGRITY COMMISSION', 'DEPARTMENT OF FINANCE',\n",
       "       'DEPARTMENT OF TRANSPORTATION', 'DEPT OF PARKS & RECREATION',\n",
       "       'DEPT. OF DESIGN & CONSTRUCTION', 'DEPT OF INFO TECH & TELECOMM',\n",
       "       'DEPT OF RECORDS & INFO SERVICE', 'CONSUMER AFFAIRS',\n",
       "       'DEPT OF CITYWIDE ADMIN SVCS', 'DISTRICT ATTORNEY-MANHATTAN',\n",
       "       'BRONX DISTRICT ATTORNEY', 'DISTRICT ATTORNEY KINGS COUNTY',\n",
       "       'DISTRICT ATTORNEY QNS COUNTY', 'DISTRICT ATTORNEY RICHMOND COU',\n",
       "       'DISTRICT ATTORNEY-SPECIAL NARC', 'PUBLIC ADMINISTRATOR-NEW YORK',\n",
       "       'PUBLIC ADMINISTRATOR-BRONX', 'PUBLIC ADMINISTRATOR-KINGS',\n",
       "       'PUBLIC ADMINISTRATOR-QUEENS', 'PUBLIC ADMINISTRATOR-RICHMOND',\n",
       "       'BOARD OF CORRECTIONS', 'DISTRICTING COMMISSION',\n",
       "       'Police Department', 'Bronx DA', 'Queens DA', 'Spec Narcs-DA',\n",
       "       'Richmond DA', 'Manhattan DA', 'Kings DA',\n",
       "       'CONSUMER AND WORKER PROTECTION', 'TECHNOLOGY & INNOVATION'],\n",
       "      dtype=object)"
      ]
     },
     "execution_count": 5,
     "metadata": {},
     "output_type": "execute_result"
    }
   ],
   "source": [
    "city_pay['agency_name'].unique()"
   ]
  },
  {
   "cell_type": "code",
   "execution_count": 6,
   "metadata": {},
   "outputs": [
    {
     "data": {
      "text/html": [
       "<div>\n",
       "<style scoped>\n",
       "    .dataframe tbody tr th:only-of-type {\n",
       "        vertical-align: middle;\n",
       "    }\n",
       "\n",
       "    .dataframe tbody tr th {\n",
       "        vertical-align: top;\n",
       "    }\n",
       "\n",
       "    .dataframe thead th {\n",
       "        text-align: right;\n",
       "    }\n",
       "</style>\n",
       "<table border=\"1\" class=\"dataframe\">\n",
       "  <thead>\n",
       "    <tr style=\"text-align: right;\">\n",
       "      <th></th>\n",
       "      <th>fiscal_year</th>\n",
       "      <th>payroll_number</th>\n",
       "      <th>agency_name</th>\n",
       "      <th>agency_start_date</th>\n",
       "      <th>work_location_borough</th>\n",
       "      <th>title_description</th>\n",
       "      <th>leave_status_as_of_june_30</th>\n",
       "      <th>base_salary</th>\n",
       "      <th>pay_basis</th>\n",
       "      <th>regular_hours</th>\n",
       "      <th>regular_gross_paid</th>\n",
       "      <th>ot_hours</th>\n",
       "      <th>total_ot_paid</th>\n",
       "      <th>total_other_pay</th>\n",
       "    </tr>\n",
       "  </thead>\n",
       "  <tbody>\n",
       "    <tr>\n",
       "      <th>4789</th>\n",
       "      <td>2020</td>\n",
       "      <td>56.0</td>\n",
       "      <td>POLICE DEPARTMENT</td>\n",
       "      <td>12/20/1998</td>\n",
       "      <td>MANHATTAN</td>\n",
       "      <td>SUPERVISOR OF SCHOOL SECURITY</td>\n",
       "      <td>CEASED</td>\n",
       "      <td>57813.0</td>\n",
       "      <td>per Annum</td>\n",
       "      <td>0.00</td>\n",
       "      <td>0.00</td>\n",
       "      <td>0.00</td>\n",
       "      <td>0.00</td>\n",
       "      <td>650000.00</td>\n",
       "    </tr>\n",
       "    <tr>\n",
       "      <th>4790</th>\n",
       "      <td>2020</td>\n",
       "      <td>56.0</td>\n",
       "      <td>POLICE DEPARTMENT</td>\n",
       "      <td>04/25/2016</td>\n",
       "      <td>MANHATTAN</td>\n",
       "      <td>STATIONARY ENGINEER</td>\n",
       "      <td>ACTIVE</td>\n",
       "      <td>508.8</td>\n",
       "      <td>per Day</td>\n",
       "      <td>2080.00</td>\n",
       "      <td>140146.17</td>\n",
       "      <td>1125.25</td>\n",
       "      <td>117728.07</td>\n",
       "      <td>40696.41</td>\n",
       "    </tr>\n",
       "    <tr>\n",
       "      <th>4791</th>\n",
       "      <td>2020</td>\n",
       "      <td>56.0</td>\n",
       "      <td>POLICE DEPARTMENT</td>\n",
       "      <td>04/30/1995</td>\n",
       "      <td>MANHATTAN</td>\n",
       "      <td>LIEUTENANT D/A SPECIAL ASSIGNMENT</td>\n",
       "      <td>CEASED</td>\n",
       "      <td>141196.0</td>\n",
       "      <td>per Annum</td>\n",
       "      <td>665.18</td>\n",
       "      <td>48008.86</td>\n",
       "      <td>2451.57</td>\n",
       "      <td>162000.47</td>\n",
       "      <td>78132.88</td>\n",
       "    </tr>\n",
       "    <tr>\n",
       "      <th>4792</th>\n",
       "      <td>2020</td>\n",
       "      <td>56.0</td>\n",
       "      <td>POLICE DEPARTMENT</td>\n",
       "      <td>12/16/2013</td>\n",
       "      <td>MANHATTAN</td>\n",
       "      <td>STATIONARY ENGINEER</td>\n",
       "      <td>ACTIVE</td>\n",
       "      <td>508.8</td>\n",
       "      <td>per Day</td>\n",
       "      <td>2080.00</td>\n",
       "      <td>140146.17</td>\n",
       "      <td>1007.00</td>\n",
       "      <td>103226.97</td>\n",
       "      <td>27980.42</td>\n",
       "    </tr>\n",
       "    <tr>\n",
       "      <th>4793</th>\n",
       "      <td>2020</td>\n",
       "      <td>56.0</td>\n",
       "      <td>POLICE DEPARTMENT</td>\n",
       "      <td>07/11/2012</td>\n",
       "      <td>MANHATTAN</td>\n",
       "      <td>POLICE OFFICER</td>\n",
       "      <td>CEASED</td>\n",
       "      <td>85292.0</td>\n",
       "      <td>per Annum</td>\n",
       "      <td>22.87</td>\n",
       "      <td>227914.67</td>\n",
       "      <td>0.00</td>\n",
       "      <td>0.00</td>\n",
       "      <td>30289.83</td>\n",
       "    </tr>\n",
       "  </tbody>\n",
       "</table>\n",
       "</div>"
      ],
      "text/plain": [
       "      fiscal_year  payroll_number        agency_name agency_start_date  \\\n",
       "4789         2020            56.0  POLICE DEPARTMENT        12/20/1998   \n",
       "4790         2020            56.0  POLICE DEPARTMENT        04/25/2016   \n",
       "4791         2020            56.0  POLICE DEPARTMENT        04/30/1995   \n",
       "4792         2020            56.0  POLICE DEPARTMENT        12/16/2013   \n",
       "4793         2020            56.0  POLICE DEPARTMENT        07/11/2012   \n",
       "\n",
       "     work_location_borough                  title_description  \\\n",
       "4789             MANHATTAN      SUPERVISOR OF SCHOOL SECURITY   \n",
       "4790             MANHATTAN                STATIONARY ENGINEER   \n",
       "4791             MANHATTAN  LIEUTENANT D/A SPECIAL ASSIGNMENT   \n",
       "4792             MANHATTAN                STATIONARY ENGINEER   \n",
       "4793             MANHATTAN                     POLICE OFFICER   \n",
       "\n",
       "     leave_status_as_of_june_30  base_salary  pay_basis  regular_hours  \\\n",
       "4789                     CEASED      57813.0  per Annum           0.00   \n",
       "4790                     ACTIVE        508.8    per Day        2080.00   \n",
       "4791                     CEASED     141196.0  per Annum         665.18   \n",
       "4792                     ACTIVE        508.8    per Day        2080.00   \n",
       "4793                     CEASED      85292.0  per Annum          22.87   \n",
       "\n",
       "      regular_gross_paid  ot_hours  total_ot_paid  total_other_pay  \n",
       "4789                0.00      0.00           0.00        650000.00  \n",
       "4790           140146.17   1125.25      117728.07         40696.41  \n",
       "4791            48008.86   2451.57      162000.47         78132.88  \n",
       "4792           140146.17   1007.00      103226.97         27980.42  \n",
       "4793           227914.67      0.00           0.00         30289.83  "
      ]
     },
     "execution_count": 6,
     "metadata": {},
     "output_type": "execute_result"
    }
   ],
   "source": [
    "# Filtering for police\n",
    "#'POLICE DEPARTMENT''NYC POLICE PENSION FUND''Police Department'\n",
    "\n",
    "police_pay = city_pay.loc[city_pay['agency_name'].isin(['POLICE DEPARTMENT', 'NYC POLICE PENSION FUND', 'Police Department'])]\n",
    "police_pay.head()"
   ]
  },
  {
   "cell_type": "code",
   "execution_count": 7,
   "metadata": {},
   "outputs": [
    {
     "data": {
      "text/plain": [
       "array(['POLICE DEPARTMENT', 'NYC POLICE PENSION FUND',\n",
       "       'Police Department'], dtype=object)"
      ]
     },
     "execution_count": 7,
     "metadata": {},
     "output_type": "execute_result"
    }
   ],
   "source": [
    "police_pay['agency_name'].unique()"
   ]
  },
  {
   "cell_type": "code",
   "execution_count": 8,
   "metadata": {},
   "outputs": [
    {
     "data": {
      "text/html": [
       "<div>\n",
       "<style scoped>\n",
       "    .dataframe tbody tr th:only-of-type {\n",
       "        vertical-align: middle;\n",
       "    }\n",
       "\n",
       "    .dataframe tbody tr th {\n",
       "        vertical-align: top;\n",
       "    }\n",
       "\n",
       "    .dataframe thead th {\n",
       "        text-align: right;\n",
       "    }\n",
       "</style>\n",
       "<table border=\"1\" class=\"dataframe\">\n",
       "  <thead>\n",
       "    <tr style=\"text-align: right;\">\n",
       "      <th></th>\n",
       "      <th>fiscal_year</th>\n",
       "      <th>payroll_number</th>\n",
       "      <th>agency_name</th>\n",
       "      <th>agency_start_date</th>\n",
       "      <th>work_location_borough</th>\n",
       "      <th>title_description</th>\n",
       "      <th>leave_status_as_of_june_30</th>\n",
       "      <th>base_salary</th>\n",
       "      <th>pay_basis</th>\n",
       "      <th>regular_hours</th>\n",
       "      <th>regular_gross_paid</th>\n",
       "      <th>ot_hours</th>\n",
       "      <th>total_ot_paid</th>\n",
       "      <th>total_other_pay</th>\n",
       "    </tr>\n",
       "  </thead>\n",
       "  <tbody>\n",
       "    <tr>\n",
       "      <th>0</th>\n",
       "      <td>2020</td>\n",
       "      <td>56.0</td>\n",
       "      <td>POLICE DEPARTMENT</td>\n",
       "      <td>12/20/1998</td>\n",
       "      <td>MANHATTAN</td>\n",
       "      <td>SUPERVISOR OF SCHOOL SECURITY</td>\n",
       "      <td>CEASED</td>\n",
       "      <td>57813.0</td>\n",
       "      <td>per Annum</td>\n",
       "      <td>0.00</td>\n",
       "      <td>0.00</td>\n",
       "      <td>0.00</td>\n",
       "      <td>0.00</td>\n",
       "      <td>650000.00</td>\n",
       "    </tr>\n",
       "    <tr>\n",
       "      <th>1</th>\n",
       "      <td>2020</td>\n",
       "      <td>56.0</td>\n",
       "      <td>POLICE DEPARTMENT</td>\n",
       "      <td>04/25/2016</td>\n",
       "      <td>MANHATTAN</td>\n",
       "      <td>STATIONARY ENGINEER</td>\n",
       "      <td>ACTIVE</td>\n",
       "      <td>508.8</td>\n",
       "      <td>per Day</td>\n",
       "      <td>2080.00</td>\n",
       "      <td>140146.17</td>\n",
       "      <td>1125.25</td>\n",
       "      <td>117728.07</td>\n",
       "      <td>40696.41</td>\n",
       "    </tr>\n",
       "    <tr>\n",
       "      <th>2</th>\n",
       "      <td>2020</td>\n",
       "      <td>56.0</td>\n",
       "      <td>POLICE DEPARTMENT</td>\n",
       "      <td>04/30/1995</td>\n",
       "      <td>MANHATTAN</td>\n",
       "      <td>LIEUTENANT D/A SPECIAL ASSIGNMENT</td>\n",
       "      <td>CEASED</td>\n",
       "      <td>141196.0</td>\n",
       "      <td>per Annum</td>\n",
       "      <td>665.18</td>\n",
       "      <td>48008.86</td>\n",
       "      <td>2451.57</td>\n",
       "      <td>162000.47</td>\n",
       "      <td>78132.88</td>\n",
       "    </tr>\n",
       "    <tr>\n",
       "      <th>3</th>\n",
       "      <td>2020</td>\n",
       "      <td>56.0</td>\n",
       "      <td>POLICE DEPARTMENT</td>\n",
       "      <td>12/16/2013</td>\n",
       "      <td>MANHATTAN</td>\n",
       "      <td>STATIONARY ENGINEER</td>\n",
       "      <td>ACTIVE</td>\n",
       "      <td>508.8</td>\n",
       "      <td>per Day</td>\n",
       "      <td>2080.00</td>\n",
       "      <td>140146.17</td>\n",
       "      <td>1007.00</td>\n",
       "      <td>103226.97</td>\n",
       "      <td>27980.42</td>\n",
       "    </tr>\n",
       "    <tr>\n",
       "      <th>4</th>\n",
       "      <td>2020</td>\n",
       "      <td>56.0</td>\n",
       "      <td>POLICE DEPARTMENT</td>\n",
       "      <td>07/11/2012</td>\n",
       "      <td>MANHATTAN</td>\n",
       "      <td>POLICE OFFICER</td>\n",
       "      <td>CEASED</td>\n",
       "      <td>85292.0</td>\n",
       "      <td>per Annum</td>\n",
       "      <td>22.87</td>\n",
       "      <td>227914.67</td>\n",
       "      <td>0.00</td>\n",
       "      <td>0.00</td>\n",
       "      <td>30289.83</td>\n",
       "    </tr>\n",
       "    <tr>\n",
       "      <th>...</th>\n",
       "      <td>...</td>\n",
       "      <td>...</td>\n",
       "      <td>...</td>\n",
       "      <td>...</td>\n",
       "      <td>...</td>\n",
       "      <td>...</td>\n",
       "      <td>...</td>\n",
       "      <td>...</td>\n",
       "      <td>...</td>\n",
       "      <td>...</td>\n",
       "      <td>...</td>\n",
       "      <td>...</td>\n",
       "      <td>...</td>\n",
       "      <td>...</td>\n",
       "    </tr>\n",
       "    <tr>\n",
       "      <th>603544</th>\n",
       "      <td>2023</td>\n",
       "      <td>256.0</td>\n",
       "      <td>NYC POLICE PENSION FUND</td>\n",
       "      <td>08/29/2022</td>\n",
       "      <td>MANHATTAN</td>\n",
       "      <td>COMPUTER SYSTEMS MANAGER</td>\n",
       "      <td>ACTIVE</td>\n",
       "      <td>151830.0</td>\n",
       "      <td>per Annum</td>\n",
       "      <td>1470.00</td>\n",
       "      <td>117171.69</td>\n",
       "      <td>1.00</td>\n",
       "      <td>78.49</td>\n",
       "      <td>3033.00</td>\n",
       "    </tr>\n",
       "    <tr>\n",
       "      <th>603545</th>\n",
       "      <td>2023</td>\n",
       "      <td>256.0</td>\n",
       "      <td>NYC POLICE PENSION FUND</td>\n",
       "      <td>02/17/2005</td>\n",
       "      <td>MANHATTAN</td>\n",
       "      <td>COMMUNITY COORDINATOR</td>\n",
       "      <td>ACTIVE</td>\n",
       "      <td>89110.0</td>\n",
       "      <td>per Annum</td>\n",
       "      <td>1820.00</td>\n",
       "      <td>40874.90</td>\n",
       "      <td>0.00</td>\n",
       "      <td>0.00</td>\n",
       "      <td>3312.45</td>\n",
       "    </tr>\n",
       "    <tr>\n",
       "      <th>603546</th>\n",
       "      <td>2023</td>\n",
       "      <td>256.0</td>\n",
       "      <td>NYC POLICE PENSION FUND</td>\n",
       "      <td>12/03/2018</td>\n",
       "      <td>MANHATTAN</td>\n",
       "      <td>ASSOCIATE RETIREMENT BENEFITS EXAMINER</td>\n",
       "      <td>ACTIVE</td>\n",
       "      <td>68558.0</td>\n",
       "      <td>per Annum</td>\n",
       "      <td>1820.00</td>\n",
       "      <td>68651.40</td>\n",
       "      <td>0.00</td>\n",
       "      <td>0.00</td>\n",
       "      <td>12709.93</td>\n",
       "    </tr>\n",
       "    <tr>\n",
       "      <th>603547</th>\n",
       "      <td>2023</td>\n",
       "      <td>256.0</td>\n",
       "      <td>NYC POLICE PENSION FUND</td>\n",
       "      <td>06/14/2004</td>\n",
       "      <td>MANHATTAN</td>\n",
       "      <td>CUSTOMER INFORMATION REPRESENTATIVE MA L 1549</td>\n",
       "      <td>ACTIVE</td>\n",
       "      <td>91622.0</td>\n",
       "      <td>per Annum</td>\n",
       "      <td>1820.00</td>\n",
       "      <td>90137.89</td>\n",
       "      <td>344.75</td>\n",
       "      <td>20875.95</td>\n",
       "      <td>7015.34</td>\n",
       "    </tr>\n",
       "    <tr>\n",
       "      <th>603548</th>\n",
       "      <td>2023</td>\n",
       "      <td>256.0</td>\n",
       "      <td>NYC POLICE PENSION FUND</td>\n",
       "      <td>09/23/2019</td>\n",
       "      <td>MANHATTAN</td>\n",
       "      <td>PRINCIPAL ADMINISTRATIVE ASSOCIATE -  NON SUPVR</td>\n",
       "      <td>ACTIVE</td>\n",
       "      <td>54531.0</td>\n",
       "      <td>per Annum</td>\n",
       "      <td>1820.00</td>\n",
       "      <td>54521.52</td>\n",
       "      <td>135.75</td>\n",
       "      <td>4503.21</td>\n",
       "      <td>111.48</td>\n",
       "    </tr>\n",
       "  </tbody>\n",
       "</table>\n",
       "<p>603549 rows × 14 columns</p>\n",
       "</div>"
      ],
      "text/plain": [
       "        fiscal_year  payroll_number              agency_name  \\\n",
       "0              2020            56.0        POLICE DEPARTMENT   \n",
       "1              2020            56.0        POLICE DEPARTMENT   \n",
       "2              2020            56.0        POLICE DEPARTMENT   \n",
       "3              2020            56.0        POLICE DEPARTMENT   \n",
       "4              2020            56.0        POLICE DEPARTMENT   \n",
       "...             ...             ...                      ...   \n",
       "603544         2023           256.0  NYC POLICE PENSION FUND   \n",
       "603545         2023           256.0  NYC POLICE PENSION FUND   \n",
       "603546         2023           256.0  NYC POLICE PENSION FUND   \n",
       "603547         2023           256.0  NYC POLICE PENSION FUND   \n",
       "603548         2023           256.0  NYC POLICE PENSION FUND   \n",
       "\n",
       "       agency_start_date work_location_borough  \\\n",
       "0             12/20/1998             MANHATTAN   \n",
       "1             04/25/2016             MANHATTAN   \n",
       "2             04/30/1995             MANHATTAN   \n",
       "3             12/16/2013             MANHATTAN   \n",
       "4             07/11/2012             MANHATTAN   \n",
       "...                  ...                   ...   \n",
       "603544        08/29/2022             MANHATTAN   \n",
       "603545        02/17/2005             MANHATTAN   \n",
       "603546        12/03/2018             MANHATTAN   \n",
       "603547        06/14/2004             MANHATTAN   \n",
       "603548        09/23/2019             MANHATTAN   \n",
       "\n",
       "                                      title_description  \\\n",
       "0                         SUPERVISOR OF SCHOOL SECURITY   \n",
       "1                                   STATIONARY ENGINEER   \n",
       "2                     LIEUTENANT D/A SPECIAL ASSIGNMENT   \n",
       "3                                   STATIONARY ENGINEER   \n",
       "4                                        POLICE OFFICER   \n",
       "...                                                 ...   \n",
       "603544                         COMPUTER SYSTEMS MANAGER   \n",
       "603545                            COMMUNITY COORDINATOR   \n",
       "603546           ASSOCIATE RETIREMENT BENEFITS EXAMINER   \n",
       "603547    CUSTOMER INFORMATION REPRESENTATIVE MA L 1549   \n",
       "603548  PRINCIPAL ADMINISTRATIVE ASSOCIATE -  NON SUPVR   \n",
       "\n",
       "       leave_status_as_of_june_30  base_salary  pay_basis  regular_hours  \\\n",
       "0                          CEASED      57813.0  per Annum           0.00   \n",
       "1                          ACTIVE        508.8    per Day        2080.00   \n",
       "2                          CEASED     141196.0  per Annum         665.18   \n",
       "3                          ACTIVE        508.8    per Day        2080.00   \n",
       "4                          CEASED      85292.0  per Annum          22.87   \n",
       "...                           ...          ...        ...            ...   \n",
       "603544                     ACTIVE     151830.0  per Annum        1470.00   \n",
       "603545                     ACTIVE      89110.0  per Annum        1820.00   \n",
       "603546                     ACTIVE      68558.0  per Annum        1820.00   \n",
       "603547                     ACTIVE      91622.0  per Annum        1820.00   \n",
       "603548                     ACTIVE      54531.0  per Annum        1820.00   \n",
       "\n",
       "        regular_gross_paid  ot_hours  total_ot_paid  total_other_pay  \n",
       "0                     0.00      0.00           0.00        650000.00  \n",
       "1                140146.17   1125.25      117728.07         40696.41  \n",
       "2                 48008.86   2451.57      162000.47         78132.88  \n",
       "3                140146.17   1007.00      103226.97         27980.42  \n",
       "4                227914.67      0.00           0.00         30289.83  \n",
       "...                    ...       ...            ...              ...  \n",
       "603544           117171.69      1.00          78.49          3033.00  \n",
       "603545            40874.90      0.00           0.00          3312.45  \n",
       "603546            68651.40      0.00           0.00         12709.93  \n",
       "603547            90137.89    344.75       20875.95          7015.34  \n",
       "603548            54521.52    135.75        4503.21           111.48  \n",
       "\n",
       "[603549 rows x 14 columns]"
      ]
     },
     "execution_count": 8,
     "metadata": {},
     "output_type": "execute_result"
    }
   ],
   "source": [
    "police_pay.reset_index(inplace=True, drop=True)\n",
    "#police_pay.columns.drop('index')\n",
    "police_pay"
   ]
  },
  {
   "cell_type": "code",
   "execution_count": 9,
   "metadata": {},
   "outputs": [
    {
     "data": {
      "text/plain": [
       "array(['CEASED', 'ACTIVE', 'ON LEAVE', 'ON SEPARATION LEAVE', 'SEASONAL'],\n",
       "      dtype=object)"
      ]
     },
     "execution_count": 9,
     "metadata": {},
     "output_type": "execute_result"
    }
   ],
   "source": [
    "police_pay['leave_status_as_of_june_30'].unique()"
   ]
  }
 ],
 "metadata": {
  "kernelspec": {
   "display_name": "nf_sql",
   "language": "python",
   "name": "python3"
  },
  "language_info": {
   "codemirror_mode": {
    "name": "ipython",
    "version": 3
   },
   "file_extension": ".py",
   "mimetype": "text/x-python",
   "name": "python",
   "nbconvert_exporter": "python",
   "pygments_lexer": "ipython3",
   "version": "3.9.18"
  }
 },
 "nbformat": 4,
 "nbformat_minor": 2
}
